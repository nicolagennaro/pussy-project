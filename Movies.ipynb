{
 "cells": [
  {
   "cell_type": "code",
   "execution_count": 1,
   "metadata": {},
   "outputs": [],
   "source": [
    "%matplotlib inline\n",
    "\n",
    "import pandas as pd\n",
    "import numpy as np\n",
    "\n",
    "import matplotlib.pyplot as plt"
   ]
  },
  {
   "cell_type": "code",
   "execution_count": null,
   "metadata": {},
   "outputs": [
    {
     "name": "stderr",
     "output_type": "stream",
     "text": [
      "c:\\users\\a\\appdata\\local\\programs\\python\\python36\\lib\\site-packages\\ipykernel_launcher.py:1: ParserWarning: Falling back to the 'python' engine because the 'c' engine does not support regex separators (separators > 1 char and different from '\\s+' are interpreted as regex); you can avoid this warning by specifying engine='python'.\n",
      "  \"\"\"Entry point for launching an IPython kernel.\n",
      "c:\\users\\a\\appdata\\local\\programs\\python\\python36\\lib\\site-packages\\ipykernel_launcher.py:3: ParserWarning: Falling back to the 'python' engine because the 'c' engine does not support regex separators (separators > 1 char and different from '\\s+' are interpreted as regex); you can avoid this warning by specifying engine='python'.\n",
      "  This is separate from the ipykernel package so we can avoid doing imports until\n",
      "c:\\users\\a\\appdata\\local\\programs\\python\\python36\\lib\\site-packages\\ipykernel_launcher.py:5: ParserWarning: Falling back to the 'python' engine because the 'c' engine does not support regex separators (separators > 1 char and different from '\\s+' are interpreted as regex); you can avoid this warning by specifying engine='python'.\n",
      "  \"\"\"\n"
     ]
    }
   ],
   "source": [
    "users = pd.read_csv(\"users.dat\", sep=\"::\", header=None)\n",
    "\n",
    "movies = pd.read_csv(\"movies.dat\", sep=\"::\", header=None)\n",
    "\n",
    "ratings = pd.read_csv(\"ratings.dat\", sep=\"::\", header=None)\n",
    "\n",
    "print(users.info())\n",
    "print(movies.info())\n",
    "print(ratings.info())"
   ]
  },
  {
   "cell_type": "code",
   "execution_count": null,
   "metadata": {},
   "outputs": [],
   "source": [
    "usersHeader = [\"userID\", \"gender\", \"age\", \"occupation\", \"zipCode\"]\n",
    "\n",
    "# age to float num (mean)  and to factor\n",
    "\n",
    "moviesHeader_init = [\"movieID\", \"title\", \"genres\"]\n",
    "moviesHeader = [\"movieID\", \"year\", \"title\", \"genres\"]\n",
    "# genres must be ONE HOT encoding\n",
    "\n",
    "\n",
    "\n",
    "ratingsHeader = [\"userID\", \"movieID\", \"rating\", \"time\"]"
   ]
  },
  {
   "cell_type": "code",
   "execution_count": null,
   "metadata": {},
   "outputs": [],
   "source": [
    "movies.columns=moviesHeader_init\n",
    "movies.head()\n",
    "procMovies=pd.DataFrame(data={'movieID':movies['movieID']})\n",
    "x =movies['title'].str.extract('(.*)\\((\\d{4})\\)$')\n",
    "procMovies['title']=x[0]\n",
    "procMovies['year']=x[1]\n",
    "procMovies['genres']=movies['genres'].str.split('|')\n",
    "procMovies['howManyGenres']=procMovies['genres'].str.len()\n",
    "print(procMovies.head())\n",
    "\n",
    "procMovies1Hot=procMovies.copy()\n",
    "procMovies1Hot=procMovies1Hot.drop('genres', 1).join(pd.get_dummies(pd.DataFrame(procMovies1Hot['genres'].tolist()).stack()).astype(int).sum(level=0))\n",
    "print(procMovies1Hot.head())\n",
    "\n",
    "\n",
    "procMoviesUniformHot=procMovies1Hot.copy()\n",
    "procMoviesUniformHot.iloc[:,4:]=procMoviesUniformHot.iloc[:,4:].div(procMoviesUniformHot['howManyGenres'],axis=0)\n",
    "print(procMoviesUniformHot.head())"
   ]
  },
  {
   "cell_type": "code",
   "execution_count": null,
   "metadata": {},
   "outputs": [],
   "source": [
    "# how many genres does a movie have?\n",
    "g=procMovies.groupby('howManyGenres').size()\n",
    "print(g)\n",
    "procMovies.hist(column='howManyGenres')\n",
    "# movies with the greates number of genres\n",
    "procMovies.sort_values('howManyGenres',ascending=False).head()"
   ]
  },
  {
   "cell_type": "code",
   "execution_count": null,
   "metadata": {},
   "outputs": [],
   "source": [
    "# oldest movies\n",
    "print(procMovies.sort_values('year').head())\n",
    "# newest movies\n",
    "print(procMovies.sort_values('year',ascending=False).head())\n",
    "# how many movies for each year do we have?\n",
    "g=procMovies.groupby('year').size()\n",
    "g.plot.bar(figsize=(15,10))\n"
   ]
  },
  {
   "cell_type": "code",
   "execution_count": null,
   "metadata": {},
   "outputs": [],
   "source": [
    "# in how many movies does each genre appear?\n",
    "g=procMovies1Hot.iloc[:,4:].sum().sort_values()\n",
    "g.plot.barh()\n",
    "\n",
    "# in how many movies does each genre appear (goup by year)?\n",
    "g=procMovies1Hot.columns[4:].tolist()\n",
    "g.append('year')\n",
    "g=procMovies1Hot[g].groupby('year').sum()#.sort_values()\n",
    "g.plot.bar(figsize=(20,7))"
   ]
  },
  {
   "cell_type": "code",
   "execution_count": null,
   "metadata": {},
   "outputs": [],
   "source": [
    "# how much is used a genre?\n",
    "# the usage og a genre is a value in [0,1]\n",
    "# if a movie has both thriller and action then thriller is used for 0.5 and action for 0.5\n",
    "# if a movie has only thriller then thriller is used for 1\n",
    "g=procMoviesUniformHot.iloc[:,4:].sum().sort_values()\n",
    "g.plot.barh()\n",
    "## for drama and comedy the plot is almost the same as before and they are at the top\n",
    "## but this does not happen for action, thriller, romance\n",
    "## the difference between the two plots is that for the second one we are giving less weight to a genre if there are also other genres\n",
    "## so it seems that movies with drama or comedy as genre has only 1 genre\n",
    "## instead movies with action, thriller, romance as genre has more than 1 genre"
   ]
  },
  {
   "cell_type": "code",
   "execution_count": null,
   "metadata": {},
   "outputs": [],
   "source": [
    "# let's verify the reasoning written above:\n",
    "## comedy and drama are usually the unique genre of the movie\n",
    "## instead action,thriller, romance are mixed with other genres\n",
    "genres=procMovies1Hot.columns[4:].tolist() # get list of genres\n",
    "# group by howManyGenres and count how many movies for each genre\n",
    "g=procMovies1Hot.groupby('howManyGenres')[genres].sum()\n",
    "t=g.transpose() # a genre for each row\n",
    "# each genre is used in movies with 1,2,.. genres,\n",
    "## column 1 has how many movies used the given genre has unique genre,\n",
    "## column 2 has how many movies used the given genre together with another genre\n",
    "## column N has how many movies usd the given genre together with N-1 genres\n",
    "\n",
    "# make a dataframe with columns: genre, howManyGenres, numberOfMovies\n",
    "t['genre']=t.index\n",
    "q=t.melt(id_vars='genre',value_name='numberOfMovies')\n",
    "q['howManyGenres']=q['howManyGenres'].astype(int) # howManyGenres is of type int\n",
    "# for each genre compute weighted mean of howManyGenre with numberOfMovies as weight \n",
    "w=q.groupby('genre').agg(lambda x: np.average(x['howManyGenres'],weights=x['numberOfMovies'])).iloc[:,1]\n",
    "t['wmHowManyGenre']=w\n",
    "t=t.sort_values('wmHowManyGenre')\n",
    "t.iloc[:,0:6].plot.barh(figsize=(10,7),width=1,cmap='RdBu_r')\n",
    "t\n",
    "## so drama is the second genre used alone in a movie (after documentary)\n",
    "## then there is horror and comedy\n",
    "## instead in average action, thriller and romance are used together with at least 2 genres\n",
    "## fantasy and adventure are the genres that are more mixed with the other ones"
   ]
  },
  {
   "cell_type": "code",
   "execution_count": null,
   "metadata": {},
   "outputs": [],
   "source": [
    "## let's check for each genre wich is the genre used together with it\n",
    "## make dataframe with 2 columns: movieId and genre\n",
    "## for movies with N genres there are N rows\n",
    "q=procMovies.set_index('movieID').genres.apply(pd.Series).stack().reset_index(level=-1, drop=True).reset_index()\n",
    "q.columns=('movieID','genre')\n",
    "q=q.set_index('movieID')\n",
    "procMovies1Hot=procMovies1Hot.set_index('movieID')\n",
    "print(q.shape)\n",
    "\n",
    "# for each genre (that is a row) you have the number of movies that used it together with Action (Action column), Adventure (Adventure column) and so on\n",
    "g=procMovies1Hot.join(q)\n",
    "g.head()\n",
    "g.shape\n",
    "q=g.groupby('genre')[genres].sum()\n",
    "q\n"
   ]
  },
  {
   "cell_type": "code",
   "execution_count": null,
   "metadata": {},
   "outputs": [],
   "source": [
    "## divide the values by the number of movies for that genre, in order to have relative values and so compare different genres\n",
    "import seaborn as sns\n",
    "qr=q.div(q.sum(axis=1), axis=0)\n",
    "## the lighter the square more movies with the two genres together\n",
    "sns.heatmap(qr)\n",
    "plt.show()\n",
    "## the white squares means that the two genres are almost never mixed together\n",
    "qrl=qr.apply(np.log)\n",
    "sns.heatmap(qrl)\n",
    "plt.show()\n",
    "## in the first plot\n",
    "##  Documentary-Documentary is white, in fact Documentary is almost never mixed with other genres\n",
    "##  Musical-(Aniation,Children's,Comedy) is quite light so Musical is usually mixed with them\n",
    "\n",
    "## in the second plot\n",
    "##  Action-(Documentary,Film Noir) is white, in fact Action is almost never mixed with them\n",
    "##  Children-(Crime,Documentary,Film Noir) is white, in fact Children's is almost never mixed with them\n",
    "##    (strange that there is not War, Children and War are used together in the movie with 6 genres, Transformners 1986 and another one)\n",
    "##  Documentary-(Comedy,Drama,Musical,War) is black, Documentary is mixed with only these genres\n",
    "##  Comedy and Drama are mixed with all the different genres"
   ]
  },
  {
   "cell_type": "code",
   "execution_count": null,
   "metadata": {},
   "outputs": [],
   "source": []
  }
 ],
 "metadata": {
  "kernelspec": {
   "display_name": "Python 3",
   "language": "python",
   "name": "python3"
  },
  "language_info": {
   "codemirror_mode": {
    "name": "ipython",
    "version": 3
   },
   "file_extension": ".py",
   "mimetype": "text/x-python",
   "name": "python",
   "nbconvert_exporter": "python",
   "pygments_lexer": "ipython3",
   "version": "3.6.4"
  }
 },
 "nbformat": 4,
 "nbformat_minor": 2
}
