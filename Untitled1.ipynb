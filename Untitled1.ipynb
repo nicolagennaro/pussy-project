{
 "cells": [
  {
   "cell_type": "code",
   "execution_count": 2,
   "metadata": {
    "collapsed": true
   },
   "outputs": [],
   "source": [
    "import pandas as pd"
   ]
  },
  {
   "cell_type": "code",
   "execution_count": 3,
   "metadata": {},
   "outputs": [
    {
     "name": "stderr",
     "output_type": "stream",
     "text": [
      "/home/nicola/anaconda3/lib/python3.6/site-packages/IPython/core/interactiveshell.py:2698: DtypeWarning: Columns (11) have mixed types. Specify dtype option on import or set low_memory=False.\n",
      "  interactivity=interactivity, compiler=compiler, result=result)\n"
     ]
    }
   ],
   "source": [
    "z = pd.read_csv(\"../free-zipcode-database.csv\")"
   ]
  },
  {
   "cell_type": "code",
   "execution_count": 7,
   "metadata": {},
   "outputs": [
    {
     "name": "stdout",
     "output_type": "stream",
     "text": [
      "Zaxis\n"
     ]
    }
   ],
   "source": [
    "#z.info()\n",
    "print(z.columns[10])\n",
    "#z.head()"
   ]
  },
  {
   "cell_type": "code",
   "execution_count": 7,
   "metadata": {},
   "outputs": [
    {
     "data": {
      "text/html": [
       "<div>\n",
       "<style>\n",
       "    .dataframe thead tr:only-child th {\n",
       "        text-align: right;\n",
       "    }\n",
       "\n",
       "    .dataframe thead th {\n",
       "        text-align: left;\n",
       "    }\n",
       "\n",
       "    .dataframe tbody tr th {\n",
       "        vertical-align: top;\n",
       "    }\n",
       "</style>\n",
       "<table border=\"1\" class=\"dataframe\">\n",
       "  <thead>\n",
       "    <tr style=\"text-align: right;\">\n",
       "      <th></th>\n",
       "      <th>RecordNumber</th>\n",
       "      <th>Zipcode</th>\n",
       "      <th>ZipCodeType</th>\n",
       "      <th>City</th>\n",
       "      <th>State</th>\n",
       "      <th>LocationType</th>\n",
       "      <th>Lat</th>\n",
       "      <th>Long</th>\n",
       "      <th>Xaxis</th>\n",
       "      <th>Yaxis</th>\n",
       "      <th>Zaxis</th>\n",
       "      <th>WorldRegion</th>\n",
       "      <th>Country</th>\n",
       "      <th>LocationText</th>\n",
       "      <th>Location</th>\n",
       "      <th>Decommisioned</th>\n",
       "      <th>TaxReturnsFiled</th>\n",
       "      <th>EstimatedPopulation</th>\n",
       "      <th>TotalWages</th>\n",
       "      <th>Notes</th>\n",
       "    </tr>\n",
       "  </thead>\n",
       "  <tbody>\n",
       "    <tr>\n",
       "      <th>7390</th>\n",
       "      <td>7391</td>\n",
       "      <td>1060</td>\n",
       "      <td>STANDARD</td>\n",
       "      <td>NORTHAMPTON</td>\n",
       "      <td>MA</td>\n",
       "      <td>PRIMARY</td>\n",
       "      <td>42.32</td>\n",
       "      <td>-72.67</td>\n",
       "      <td>0.22</td>\n",
       "      <td>-0.7</td>\n",
       "      <td>0.67</td>\n",
       "      <td>NaN</td>\n",
       "      <td>US</td>\n",
       "      <td>Northampton, MA</td>\n",
       "      <td>NA-US-MA-NORTHAMPTON</td>\n",
       "      <td>False</td>\n",
       "      <td>7233.0</td>\n",
       "      <td>10304.0</td>\n",
       "      <td>262164257.0</td>\n",
       "      <td>NaN</td>\n",
       "    </tr>\n",
       "    <tr>\n",
       "      <th>7391</th>\n",
       "      <td>7392</td>\n",
       "      <td>1060</td>\n",
       "      <td>STANDARD</td>\n",
       "      <td>NORTH HAMPTON</td>\n",
       "      <td>MA</td>\n",
       "      <td>NOT ACCEPTABLE</td>\n",
       "      <td>42.32</td>\n",
       "      <td>-72.67</td>\n",
       "      <td>0.22</td>\n",
       "      <td>-0.7</td>\n",
       "      <td>0.67</td>\n",
       "      <td>NaN</td>\n",
       "      <td>US</td>\n",
       "      <td>North Hampton, MA</td>\n",
       "      <td>NA-US-MA-NORTH HAMPTON</td>\n",
       "      <td>False</td>\n",
       "      <td>7233.0</td>\n",
       "      <td>10304.0</td>\n",
       "      <td>262164257.0</td>\n",
       "      <td>NaN</td>\n",
       "    </tr>\n",
       "  </tbody>\n",
       "</table>\n",
       "</div>"
      ],
      "text/plain": [
       "      RecordNumber  Zipcode ZipCodeType           City State    LocationType  \\\n",
       "7390          7391     1060    STANDARD    NORTHAMPTON    MA         PRIMARY   \n",
       "7391          7392     1060    STANDARD  NORTH HAMPTON    MA  NOT ACCEPTABLE   \n",
       "\n",
       "        Lat   Long  Xaxis  Yaxis  Zaxis WorldRegion Country  \\\n",
       "7390  42.32 -72.67   0.22   -0.7   0.67         NaN      US   \n",
       "7391  42.32 -72.67   0.22   -0.7   0.67         NaN      US   \n",
       "\n",
       "           LocationText                Location  Decommisioned  \\\n",
       "7390    Northampton, MA    NA-US-MA-NORTHAMPTON          False   \n",
       "7391  North Hampton, MA  NA-US-MA-NORTH HAMPTON          False   \n",
       "\n",
       "      TaxReturnsFiled  EstimatedPopulation   TotalWages Notes  \n",
       "7390           7233.0              10304.0  262164257.0   NaN  \n",
       "7391           7233.0              10304.0  262164257.0   NaN  "
      ]
     },
     "execution_count": 7,
     "metadata": {},
     "output_type": "execute_result"
    }
   ],
   "source": [
    "i = z[\"Zipcode\"]==1060\n",
    "\n",
    "z[i]"
   ]
  }
 ],
 "metadata": {
  "kernelspec": {
   "display_name": "Python 3",
   "language": "python",
   "name": "python3"
  },
  "language_info": {
   "codemirror_mode": {
    "name": "ipython",
    "version": 3
   },
   "file_extension": ".py",
   "mimetype": "text/x-python",
   "name": "python",
   "nbconvert_exporter": "python",
   "pygments_lexer": "ipython3",
   "version": "3.6.3"
  }
 },
 "nbformat": 4,
 "nbformat_minor": 2
}
