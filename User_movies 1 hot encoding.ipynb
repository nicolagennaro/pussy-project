{
 "cells": [
  {
   "cell_type": "code",
   "execution_count": 2,
   "metadata": {},
   "outputs": [],
   "source": [
    "%matplotlib inline\n",
    "\n",
    "import pandas as pd\n",
    "import numpy as np\n",
    "\n",
    "import matplotlib.pyplot as plt\n",
    "\n"
   ]
  },
  {
   "cell_type": "code",
   "execution_count": 3,
   "metadata": {},
   "outputs": [],
   "source": [
    "\n",
    "urm = pd.read_csv(\"urm.csv\", sep=\",\")\n"
   ]
  },
  {
   "cell_type": "code",
   "execution_count": 4,
   "metadata": {},
   "outputs": [
    {
     "data": {
      "text/plain": [
       "(989862, 34)"
      ]
     },
     "execution_count": 4,
     "metadata": {},
     "output_type": "execute_result"
    }
   ],
   "source": [
    "urm.head()\n",
    "urm.shape"
   ]
  },
  {
   "cell_type": "code",
   "execution_count": 7,
   "metadata": {},
   "outputs": [
    {
     "data": {
      "text/plain": [
       "(1000, 3)"
      ]
     },
     "execution_count": 7,
     "metadata": {},
     "output_type": "execute_result"
    }
   ],
   "source": [
    "\n",
    "# take a subset of the all dataframe (only first n rows)\n",
    "n_rows=1000\n",
    "urm_sub=urm.iloc[0:nrows,:].loc[:,['userID','time','title']]\n",
    "urm_sub.shape"
   ]
  },
  {
   "cell_type": "code",
   "execution_count": 8,
   "metadata": {},
   "outputs": [],
   "source": [
    "urm1=urm_sub.copy()"
   ]
  },
  {
   "cell_type": "code",
   "execution_count": 9,
   "metadata": {},
   "outputs": [
    {
     "name": "stdout",
     "output_type": "stream",
     "text": [
      "   userID        time  101 Dalmatians   13th Warrior, The   \\\n",
      "0       1  2000-12-31                0                   0   \n",
      "1       1  2000-12-31                0                   0   \n",
      "2       1  2000-12-31                0                   0   \n",
      "3       1  2000-12-31                0                   0   \n",
      "4       1  2001-01-07                0                   0   \n",
      "\n",
      "   2 Days in the Valley   20,000 Leagues Under the Sea   \\\n",
      "0                      0                              0   \n",
      "1                      0                              0   \n",
      "2                      0                              0   \n",
      "3                      0                              0   \n",
      "4                      0                              0   \n",
      "\n",
      "   2001: A Space Odyssey   2010   28 Days   \\\n",
      "0                       0      0         0   \n",
      "1                       0      0         0   \n",
      "2                       0      0         0   \n",
      "3                       0      0         0   \n",
      "4                       0      0         0   \n",
      "\n",
      "   3 Ninjas: High Noon On Mega Mountain     ...      Wings of the Dove, The   \\\n",
      "0                                      0    ...                            0   \n",
      "1                                      0    ...                            0   \n",
      "2                                      0    ...                            0   \n",
      "3                                      0    ...                            0   \n",
      "4                                      0    ...                            0   \n",
      "\n",
      "   Wizard of Oz, The   X-Files: Fight the Future, The   X-Men   Yojimbo   \\\n",
      "0                   0                                0       0         0   \n",
      "1                   0                                0       0         0   \n",
      "2                   0                                0       0         0   \n",
      "3                   0                                0       0         0   \n",
      "4                   0                                0       0         0   \n",
      "\n",
      "   You've Got Mail   Young Guns   Young Guns II   Young Sherlock Holmes   \\\n",
      "0                 0            0               0                       0   \n",
      "1                 0            0               0                       0   \n",
      "2                 0            0               0                       0   \n",
      "3                 0            0               0                       0   \n",
      "4                 0            0               0                       0   \n",
      "\n",
      "   eXistenZ   \n",
      "0          0  \n",
      "1          0  \n",
      "2          0  \n",
      "3          0  \n",
      "4          0  \n",
      "\n",
      "[5 rows x 666 columns]\n"
     ]
    }
   ],
   "source": [
    "\n",
    "urm1=urm1.drop('title', 1).join(pd.get_dummies(pd.DataFrame(urm1['title'].tolist()).stack()).astype(int).sum(level=0))\n",
    "print(urm1.head())\n",
    "\n",
    "\n"
   ]
  },
  {
   "cell_type": "code",
   "execution_count": 10,
   "metadata": {},
   "outputs": [
    {
     "data": {
      "text/plain": [
       "(1000, 666)"
      ]
     },
     "execution_count": 10,
     "metadata": {},
     "output_type": "execute_result"
    }
   ],
   "source": [
    "urm1.shape"
   ]
  },
  {
   "cell_type": "code",
   "execution_count": 11,
   "metadata": {},
   "outputs": [],
   "source": [
    "urm1.to_csv(path_or_buf=\"user_movies_1hot.csv\", header=True, sep=\",\", index=False)"
   ]
  },
  {
   "cell_type": "code",
   "execution_count": null,
   "metadata": {},
   "outputs": [],
   "source": []
  }
 ],
 "metadata": {
  "kernelspec": {
   "display_name": "Python 3",
   "language": "python",
   "name": "python3"
  },
  "language_info": {
   "codemirror_mode": {
    "name": "ipython",
    "version": 3
   },
   "file_extension": ".py",
   "mimetype": "text/x-python",
   "name": "python",
   "nbconvert_exporter": "python",
   "pygments_lexer": "ipython3",
   "version": "3.6.4"
  }
 },
 "nbformat": 4,
 "nbformat_minor": 2
}
