{
 "cells": [
  {
   "cell_type": "code",
   "execution_count": 1,
   "metadata": {
    "collapsed": true
   },
   "outputs": [],
   "source": [
    "%matplotlib inline\n",
    "\n",
    "import pandas as pd\n",
    "import numpy as np\n",
    "\n",
    "import matplotlib.pyplot as plt"
   ]
  },
  {
   "cell_type": "code",
   "execution_count": 2,
   "metadata": {},
   "outputs": [
    {
     "name": "stdout",
     "output_type": "stream",
     "text": [
      "<class 'pandas.core.frame.DataFrame'>\n",
      "RangeIndex: 6040 entries, 0 to 6039\n",
      "Data columns (total 5 columns):\n",
      "0    6040 non-null int64\n",
      "1    6040 non-null object\n",
      "2    6040 non-null int64\n",
      "3    6040 non-null int64\n",
      "4    6040 non-null object\n",
      "dtypes: int64(3), object(2)\n",
      "memory usage: 236.0+ KB\n",
      "None\n"
     ]
    },
    {
     "name": "stderr",
     "output_type": "stream",
     "text": [
      "/home/nicola/anaconda3/lib/python3.6/site-packages/ipykernel_launcher.py:1: ParserWarning: Falling back to the 'python' engine because the 'c' engine does not support regex separators (separators > 1 char and different from '\\s+' are interpreted as regex); you can avoid this warning by specifying engine='python'.\n",
      "  \"\"\"Entry point for launching an IPython kernel.\n"
     ]
    }
   ],
   "source": [
    "users = pd.read_csv(\"users.dat\", sep=\"::\", header=None)\n",
    "\n",
    "print(users.info())"
   ]
  },
  {
   "cell_type": "code",
   "execution_count": 3,
   "metadata": {},
   "outputs": [
    {
     "data": {
      "text/html": [
       "<div>\n",
       "<style>\n",
       "    .dataframe thead tr:only-child th {\n",
       "        text-align: right;\n",
       "    }\n",
       "\n",
       "    .dataframe thead th {\n",
       "        text-align: left;\n",
       "    }\n",
       "\n",
       "    .dataframe tbody tr th {\n",
       "        vertical-align: top;\n",
       "    }\n",
       "</style>\n",
       "<table border=\"1\" class=\"dataframe\">\n",
       "  <thead>\n",
       "    <tr style=\"text-align: right;\">\n",
       "      <th></th>\n",
       "      <th>userID</th>\n",
       "      <th>gender</th>\n",
       "      <th>age</th>\n",
       "      <th>occupation</th>\n",
       "      <th>zipCode</th>\n",
       "    </tr>\n",
       "  </thead>\n",
       "  <tbody>\n",
       "    <tr>\n",
       "      <th>0</th>\n",
       "      <td>1</td>\n",
       "      <td>F</td>\n",
       "      <td>1</td>\n",
       "      <td>10</td>\n",
       "      <td>48067</td>\n",
       "    </tr>\n",
       "    <tr>\n",
       "      <th>1</th>\n",
       "      <td>2</td>\n",
       "      <td>M</td>\n",
       "      <td>56</td>\n",
       "      <td>16</td>\n",
       "      <td>70072</td>\n",
       "    </tr>\n",
       "    <tr>\n",
       "      <th>2</th>\n",
       "      <td>3</td>\n",
       "      <td>M</td>\n",
       "      <td>25</td>\n",
       "      <td>15</td>\n",
       "      <td>55117</td>\n",
       "    </tr>\n",
       "    <tr>\n",
       "      <th>3</th>\n",
       "      <td>4</td>\n",
       "      <td>M</td>\n",
       "      <td>45</td>\n",
       "      <td>7</td>\n",
       "      <td>02460</td>\n",
       "    </tr>\n",
       "    <tr>\n",
       "      <th>4</th>\n",
       "      <td>5</td>\n",
       "      <td>M</td>\n",
       "      <td>25</td>\n",
       "      <td>20</td>\n",
       "      <td>55455</td>\n",
       "    </tr>\n",
       "    <tr>\n",
       "      <th>5</th>\n",
       "      <td>6</td>\n",
       "      <td>F</td>\n",
       "      <td>50</td>\n",
       "      <td>9</td>\n",
       "      <td>55117</td>\n",
       "    </tr>\n",
       "    <tr>\n",
       "      <th>6</th>\n",
       "      <td>7</td>\n",
       "      <td>M</td>\n",
       "      <td>35</td>\n",
       "      <td>1</td>\n",
       "      <td>06810</td>\n",
       "    </tr>\n",
       "    <tr>\n",
       "      <th>7</th>\n",
       "      <td>8</td>\n",
       "      <td>M</td>\n",
       "      <td>25</td>\n",
       "      <td>12</td>\n",
       "      <td>11413</td>\n",
       "    </tr>\n",
       "    <tr>\n",
       "      <th>8</th>\n",
       "      <td>9</td>\n",
       "      <td>M</td>\n",
       "      <td>25</td>\n",
       "      <td>17</td>\n",
       "      <td>61614</td>\n",
       "    </tr>\n",
       "    <tr>\n",
       "      <th>9</th>\n",
       "      <td>10</td>\n",
       "      <td>F</td>\n",
       "      <td>35</td>\n",
       "      <td>1</td>\n",
       "      <td>95370</td>\n",
       "    </tr>\n",
       "  </tbody>\n",
       "</table>\n",
       "</div>"
      ],
      "text/plain": [
       "   userID gender  age  occupation zipCode\n",
       "0       1      F    1          10   48067\n",
       "1       2      M   56          16   70072\n",
       "2       3      M   25          15   55117\n",
       "3       4      M   45           7   02460\n",
       "4       5      M   25          20   55455\n",
       "5       6      F   50           9   55117\n",
       "6       7      M   35           1   06810\n",
       "7       8      M   25          12   11413\n",
       "8       9      M   25          17   61614\n",
       "9      10      F   35           1   95370"
      ]
     },
     "execution_count": 3,
     "metadata": {},
     "output_type": "execute_result"
    }
   ],
   "source": [
    "usersHeader = [\"userID\", \"gender\", \"age\", \"occupation\", \"zipCode\"]\n",
    "users.columns = usersHeader\n",
    "users.head(10)"
   ]
  },
  {
   "cell_type": "code",
   "execution_count": 4,
   "metadata": {},
   "outputs": [
    {
     "name": "stdout",
     "output_type": "stream",
     "text": [
      "<class 'pandas.core.frame.DataFrame'>\n",
      "RangeIndex: 6040 entries, 0 to 6039\n",
      "Data columns (total 5 columns):\n",
      "userID        6040 non-null int64\n",
      "gender        6040 non-null object\n",
      "age           6040 non-null int64\n",
      "occupation    6040 non-null int64\n",
      "zipCode       6040 non-null int64\n",
      "dtypes: int64(4), object(1)\n",
      "memory usage: 236.0+ KB\n",
      "None\n",
      "modified 66 elements\n",
      "[['98107', '2117'], ['37919', '4204'], ['55337', '4056'], ['55405', '2546'], ['55103', '1006'], ['52570', '9634'], ['01702', '7224'], ['20744', '6223'], ['20110', '5616'], ['48103', '8929'], ['53404', '1230'], ['68144', '2410'], ['93420', '2852'], ['84112', '2004'], ['92612', '3417'], ['23464', '3016'], ['72227', '5733'], ['92683', '1892'], ['98043', '3621'], ['11710', '1641'], ['33067', '1400'], ['02136', '1522'], ['37923', '3112'], ['27713', '9225'], ['88005', '4313'], ['95451', '9554'], ['48103', '4711'], ['64081', '8102'], ['80004', '4448'], ['50265', '2850'], ['08854', '3115'], ['27514', '3540'], ['15701', '1348'], ['91790', '1161'], ['29404', '2205'], ['62263', '3004'], ['01904', '1355'], ['70809', '2612'], ['92711', '0571'], ['94930', '2010'], ['49503', '1313'], ['48316', '5601'], ['11510', '2001'], ['62330', '1408'], ['11414', '2520'], ['15701', '2017'], ['45322', '3132'], ['90014', '1718'], ['96707', '1321'], ['19087', '3622'], ['96707', '1321'], ['63123', '1507'], ['84109', '2001'], ['77565', '2332'], ['62025', '8000'], ['02725', '1010'], ['11230', '1710'], ['20003', '2712'], ['20120', '6354'], ['85287', '2702'], ['12833', '2000'], ['10461', '1301'], ['23455', '4959'], ['90035', '4444'], ['73069', '5429'], ['78705', '5221']]\n"
     ]
    }
   ],
   "source": [
    "modified = []\n",
    "\n",
    "def clean_zipCode(value):\n",
    "    t = value.split(\"-\")\n",
    "    if(len(t) > 1):\n",
    "        global modified\n",
    "        modified.append(t)\n",
    "    return int(t[0])\n",
    "\n",
    "\n",
    "users[\"zipCode\"] = users[\"zipCode\"].apply(clean_zipCode)\n",
    "\n",
    "print(users.info())\n",
    "\n",
    "print(\"modified {} elements\".format(len(modified)))\n",
    "print(modified)"
   ]
  },
  {
   "cell_type": "code",
   "execution_count": 5,
   "metadata": {},
   "outputs": [
    {
     "name": "stdout",
     "output_type": "stream",
     "text": [
      "mod_age Nan: 0\n"
     ]
    }
   ],
   "source": [
    "mod_age = 0\n",
    "\n",
    "def clean_age(age):\n",
    "    if age==1:\n",
    "        return 6+(18-6)/2\n",
    "    elif age==18:\n",
    "        return age+(24-18)/2\n",
    "    elif age==25:\n",
    "        return age+(34-25)/2\n",
    "    elif age==35:\n",
    "        return age+(44-35)/2\n",
    "    elif age==45:\n",
    "        return age+(49-45)/2\n",
    "    elif age==50:\n",
    "        return age+(55-50)/2\n",
    "    elif age==56:\n",
    "        return age+(80-56)/2\n",
    "    else:\n",
    "        global mod_age\n",
    "        mod_age = mod_age+1\n",
    "        return np.nan\n",
    "\n",
    "users[\"age\"] = users[\"age\"].apply(clean_age)\n",
    "print(\"mod_age Nan: {}\".format(mod_age))\n"
   ]
  },
  {
   "cell_type": "code",
   "execution_count": 6,
   "metadata": {
    "collapsed": true
   },
   "outputs": [],
   "source": [
    "occu = {\n",
    "    0:\"other\",\n",
    "    1:\"academic/educator\",\n",
    "    2:\"artist\",\n",
    "    3:\"clerical/admin\",\n",
    "    4:\"college/grad student\",\n",
    "    5:\"customer service\",\n",
    "    6:\"doctor/health care\",\n",
    "    7:\"executive/managerial\",\n",
    "    8:\"farmer\",\n",
    "    9:\"homemaker\",\n",
    "    10:\"K-12 student\",\n",
    "    11:\"lawyer\",\n",
    "    12:\"programmer\",\n",
    "    13:\"retired\",\n",
    "    14:\"sales/marketing\",\n",
    "    15:\"scientist\",\n",
    "    16:\"self-employed\",\n",
    "    17:\"technician/engineer\",\n",
    "    18:\"tradesman/craftsman\",\n",
    "    19:\"unemployed\",\n",
    "    20:\"writer\"}\n",
    "\n",
    "\n",
    "# maybe not the case, too much space, only for plots\n",
    "# users[\"occupation\"].replace(occu, inplace=True)"
   ]
  },
  {
   "cell_type": "code",
   "execution_count": 7,
   "metadata": {},
   "outputs": [
    {
     "name": "stdout",
     "output_type": "stream",
     "text": [
      "<class 'pandas.core.frame.DataFrame'>\n",
      "RangeIndex: 81831 entries, 0 to 81830\n",
      "Data columns (total 20 columns):\n",
      "RecordNumber           81831 non-null int64\n",
      "Zipcode                81831 non-null int64\n",
      "ZipCodeType            81831 non-null object\n",
      "City                   81831 non-null object\n",
      "State                  81831 non-null object\n",
      "LocationType           81831 non-null object\n",
      "Lat                    81178 non-null float64\n",
      "Long                   81178 non-null float64\n",
      "Xaxis                  81831 non-null float64\n",
      "Yaxis                  81831 non-null float64\n",
      "Zaxis                  81831 non-null float64\n",
      "WorldRegion            334 non-null object\n",
      "Country                81831 non-null object\n",
      "LocationText           81180 non-null object\n",
      "Location               81830 non-null object\n",
      "Decommisioned          81831 non-null bool\n",
      "TaxReturnsFiled        58447 non-null float64\n",
      "EstimatedPopulation    58447 non-null float64\n",
      "TotalWages             58354 non-null float64\n",
      "Notes                  1844 non-null object\n",
      "dtypes: bool(1), float64(8), int64(2), object(9)\n",
      "memory usage: 11.9+ MB\n",
      "None\n",
      "   RecordNumber  Zipcode ZipCodeType                 City State  \\\n",
      "0             1      704    STANDARD          PARC PARQUE    PR   \n",
      "1             2      704    STANDARD  PASEO COSTA DEL SUR    PR   \n",
      "2             3      704    STANDARD        SECT LANAUSSE    PR   \n",
      "\n",
      "     LocationType    Lat   Long  Xaxis  Yaxis  Zaxis WorldRegion Country  \\\n",
      "0  NOT ACCEPTABLE  17.96 -66.22   0.38  -0.87    0.3         NaN      US   \n",
      "1  NOT ACCEPTABLE  17.96 -66.22   0.38  -0.87    0.3         NaN      US   \n",
      "2  NOT ACCEPTABLE  17.96 -66.22   0.38  -0.87    0.3         NaN      US   \n",
      "\n",
      "              LocationText                      Location  Decommisioned  \\\n",
      "0          Parc Parque, PR          NA-US-PR-PARC PARQUE          False   \n",
      "1  Paseo Costa Del Sur, PR  NA-US-PR-PASEO COSTA DEL SUR          False   \n",
      "2        Sect Lanausse, PR        NA-US-PR-SECT LANAUSSE          False   \n",
      "\n",
      "   TaxReturnsFiled  EstimatedPopulation  TotalWages Notes  \n",
      "0              NaN                  NaN         NaN   NaN  \n",
      "1              NaN                  NaN         NaN   NaN  \n",
      "2              NaN                  NaN         NaN   NaN  \n"
     ]
    },
    {
     "name": "stderr",
     "output_type": "stream",
     "text": [
      "/home/nicola/anaconda3/lib/python3.6/site-packages/IPython/core/interactiveshell.py:2698: DtypeWarning: Columns (11) have mixed types. Specify dtype option on import or set low_memory=False.\n",
      "  interactivity=interactivity, compiler=compiler, result=result)\n"
     ]
    }
   ],
   "source": [
    "zipp = pd.read_csv(\"zip.csv\")\n",
    "print(zipp.info())\n",
    "\n",
    "print(zipp.head(3))"
   ]
  },
  {
   "cell_type": "code",
   "execution_count": 8,
   "metadata": {},
   "outputs": [],
   "source": [
    "zipp = zipp[[\"Zipcode\", \"City\", \"State\", \"Lat\", \"Long\", \"Country\"]]\n",
    "zipp.columns = [\"zipCode\", \"city\", \"state\", \"lat\", \"long\", \"country\"]"
   ]
  },
  {
   "cell_type": "code",
   "execution_count": 9,
   "metadata": {},
   "outputs": [
    {
     "data": {
      "text/html": [
       "<div>\n",
       "<style>\n",
       "    .dataframe thead tr:only-child th {\n",
       "        text-align: right;\n",
       "    }\n",
       "\n",
       "    .dataframe thead th {\n",
       "        text-align: left;\n",
       "    }\n",
       "\n",
       "    .dataframe tbody tr th {\n",
       "        vertical-align: top;\n",
       "    }\n",
       "</style>\n",
       "<table border=\"1\" class=\"dataframe\">\n",
       "  <thead>\n",
       "    <tr style=\"text-align: right;\">\n",
       "      <th></th>\n",
       "      <th>zipCode</th>\n",
       "      <th>city</th>\n",
       "      <th>state</th>\n",
       "      <th>lat</th>\n",
       "      <th>long</th>\n",
       "      <th>country</th>\n",
       "    </tr>\n",
       "  </thead>\n",
       "  <tbody>\n",
       "    <tr>\n",
       "      <th>0</th>\n",
       "      <td>704</td>\n",
       "      <td>PARC PARQUE</td>\n",
       "      <td>PR</td>\n",
       "      <td>17.96</td>\n",
       "      <td>-66.22</td>\n",
       "      <td>US</td>\n",
       "    </tr>\n",
       "    <tr>\n",
       "      <th>1</th>\n",
       "      <td>704</td>\n",
       "      <td>PASEO COSTA DEL SUR</td>\n",
       "      <td>PR</td>\n",
       "      <td>17.96</td>\n",
       "      <td>-66.22</td>\n",
       "      <td>US</td>\n",
       "    </tr>\n",
       "  </tbody>\n",
       "</table>\n",
       "</div>"
      ],
      "text/plain": [
       "   zipCode                 city state    lat   long country\n",
       "0      704          PARC PARQUE    PR  17.96 -66.22      US\n",
       "1      704  PASEO COSTA DEL SUR    PR  17.96 -66.22      US"
      ]
     },
     "execution_count": 9,
     "metadata": {},
     "output_type": "execute_result"
    }
   ],
   "source": [
    "zipp.head(2)"
   ]
  },
  {
   "cell_type": "code",
   "execution_count": 10,
   "metadata": {},
   "outputs": [
    {
     "data": {
      "text/plain": [
       "926      130\n",
       "725       82\n",
       "662       75\n",
       "969       73\n",
       "612       68\n",
       "953       55\n",
       "693       54\n",
       "646       50\n",
       "716       49\n",
       "959       48\n",
       "727       47\n",
       "949       47\n",
       "791       47\n",
       "736       47\n",
       "738       46\n",
       "698       45\n",
       "728       45\n",
       "778       44\n",
       "674       44\n",
       "976       44\n",
       "680       43\n",
       "623       42\n",
       "784       41\n",
       "966       40\n",
       "924       39\n",
       "730       39\n",
       "682       38\n",
       "795       38\n",
       "956       38\n",
       "987       36\n",
       "        ... \n",
       "94603      1\n",
       "63738      1\n",
       "45363      1\n",
       "51452      1\n",
       "49405      1\n",
       "53503      1\n",
       "67844      1\n",
       "71942      1\n",
       "96522      1\n",
       "98581      1\n",
       "10528      1\n",
       "6438       1\n",
       "24873      1\n",
       "16685      1\n",
       "22830      1\n",
       "37175      1\n",
       "96650      1\n",
       "57657      1\n",
       "76096      1\n",
       "72006      1\n",
       "94539      1\n",
       "86351      1\n",
       "4455       1\n",
       "20847      1\n",
       "35188      1\n",
       "63866      1\n",
       "78211      1\n",
       "92552      1\n",
       "90505      1\n",
       "4098       1\n",
       "Name: zipCode, Length: 42522, dtype: int64"
      ]
     },
     "execution_count": 10,
     "metadata": {},
     "output_type": "execute_result"
    }
   ],
   "source": [
    "zipp[\"zipCode\"].value_counts()"
   ]
  },
  {
   "cell_type": "code",
   "execution_count": 11,
   "metadata": {},
   "outputs": [
    {
     "data": {
      "text/plain": [
       "2047     1\n",
       "30180    1\n",
       "24033    1\n",
       "87520    1\n",
       "44511    1\n",
       "42462    1\n",
       "48605    1\n",
       "77054    1\n",
       "96679    1\n",
       "99802    1\n",
       "40409    1\n",
       "70606    1\n",
       "58838    1\n",
       "62932    1\n",
       "50642    1\n",
       "74340    1\n",
       "54736    1\n",
       "11727    1\n",
       "75214    1\n",
       "19939    1\n",
       "32229    1\n",
       "23541    1\n",
       "28135    1\n",
       "87552    1\n",
       "90075    1\n",
       "48637    1\n",
       "70005    1\n",
       "33673    1\n",
       "38392    1\n",
       "92124    1\n",
       "        ..\n",
       "23326    1\n",
       "82717    1\n",
       "84764    1\n",
       "95003    1\n",
       "97050    1\n",
       "27416    1\n",
       "21780    1\n",
       "72470    1\n",
       "2836     1\n",
       "49965    1\n",
       "56110    1\n",
       "23514    1\n",
       "23358    1\n",
       "73645    1\n",
       "39750    1\n",
       "99141    1\n",
       "35652    1\n",
       "45891    1\n",
       "47938    1\n",
       "43840    1\n",
       "17213    1\n",
       "74545    1\n",
       "95035    1\n",
       "31546    1\n",
       "25401    1\n",
       "70455    1\n",
       "821      1\n",
       "68404    1\n",
       "13107    1\n",
       "65536    1\n",
       "Name: zipCode, Length: 42522, dtype: int64"
      ]
     },
     "execution_count": 11,
     "metadata": {},
     "output_type": "execute_result"
    }
   ],
   "source": [
    "# many cities have the same zipCode, I drop some value otherwise \n",
    "# the join goes bad\n",
    "\n",
    "zipp = zipp.drop_duplicates(subset=\"zipCode\", keep=\"first\")\n",
    "\n",
    "zipp[\"zipCode\"].value_counts()"
   ]
  },
  {
   "cell_type": "code",
   "execution_count": 12,
   "metadata": {},
   "outputs": [
    {
     "name": "stdout",
     "output_type": "stream",
     "text": [
      "   userID gender   age  occupation  zipCode       city state   lat   long  \\\n",
      "0       1      F  12.0          10    48067  ROYAL OAK    MI  42.5 -83.15   \n",
      "1     583      F  29.5           0    48067  ROYAL OAK    MI  42.5 -83.15   \n",
      "\n",
      "  country  \n",
      "0      US  \n",
      "1      US  \n",
      "\n",
      "lost 68 values in the join\n"
     ]
    }
   ],
   "source": [
    "full = pd.merge(users, zipp, how=\"inner\", on=\"zipCode\")\n",
    "\n",
    "print(full.head(2))\n",
    "\n",
    "print(\"\\nlost {} values in the join\".format( users.shape[0]-full.shape[0] ))"
   ]
  },
  {
   "cell_type": "code",
   "execution_count": 13,
   "metadata": {},
   "outputs": [
    {
     "name": "stdout",
     "output_type": "stream",
     "text": [
      "CA    1100\n",
      "NY     464\n",
      "MN     432\n",
      "TX     311\n",
      "MA     298\n",
      "IL     287\n",
      "MI     254\n",
      "OH     220\n",
      "WA     198\n",
      "PA     177\n",
      "VA     174\n",
      "FL     159\n",
      "WI     138\n",
      "NJ     130\n",
      "OR     117\n",
      "CO     101\n",
      "TN      98\n",
      "NC      94\n",
      "GA      91\n",
      "MD      86\n",
      "AZ      84\n",
      "IN      80\n",
      "CT      79\n",
      "MO      79\n",
      "IA      57\n",
      "ME      51\n",
      "KY      46\n",
      "NH      43\n",
      "OK      42\n",
      "NV      39\n",
      "KS      39\n",
      "LA      35\n",
      "SC      34\n",
      "DC      32\n",
      "UT      32\n",
      "AR      29\n",
      "NM      25\n",
      "HI      24\n",
      "AL      23\n",
      "RI      22\n",
      "NE      21\n",
      "WV      16\n",
      "DE      15\n",
      "VT      14\n",
      "ID      13\n",
      "MT      12\n",
      "SD      10\n",
      "MS       9\n",
      "AK       9\n",
      "ND       8\n",
      "WY       7\n",
      "PR       6\n",
      "AE       4\n",
      "AP       3\n",
      "GU       1\n",
      "Name: state, dtype: int64\n"
     ]
    }
   ],
   "source": [
    "print(full[\"state\"].value_counts())"
   ]
  },
  {
   "cell_type": "code",
   "execution_count": 14,
   "metadata": {},
   "outputs": [
    {
     "data": {
      "text/html": [
       "<div>\n",
       "<style>\n",
       "    .dataframe thead tr:only-child th {\n",
       "        text-align: right;\n",
       "    }\n",
       "\n",
       "    .dataframe thead th {\n",
       "        text-align: left;\n",
       "    }\n",
       "\n",
       "    .dataframe tbody tr th {\n",
       "        vertical-align: top;\n",
       "    }\n",
       "</style>\n",
       "<table border=\"1\" class=\"dataframe\">\n",
       "  <thead>\n",
       "    <tr style=\"text-align: right;\">\n",
       "      <th></th>\n",
       "      <th>userID</th>\n",
       "      <th>gender</th>\n",
       "      <th>age</th>\n",
       "      <th>occupation</th>\n",
       "      <th>zipCode</th>\n",
       "      <th>city</th>\n",
       "      <th>state</th>\n",
       "      <th>lat</th>\n",
       "      <th>long</th>\n",
       "      <th>country</th>\n",
       "    </tr>\n",
       "  </thead>\n",
       "  <tbody>\n",
       "    <tr>\n",
       "      <th>41</th>\n",
       "      <td>10</td>\n",
       "      <td>F</td>\n",
       "      <td>39.5</td>\n",
       "      <td>1</td>\n",
       "      <td>95370</td>\n",
       "      <td>SONORA</td>\n",
       "      <td>CA</td>\n",
       "      <td>37.98</td>\n",
       "      <td>-120.39</td>\n",
       "      <td>US</td>\n",
       "    </tr>\n",
       "    <tr>\n",
       "      <th>42</th>\n",
       "      <td>535</td>\n",
       "      <td>M</td>\n",
       "      <td>39.5</td>\n",
       "      <td>6</td>\n",
       "      <td>95370</td>\n",
       "      <td>SONORA</td>\n",
       "      <td>CA</td>\n",
       "      <td>37.98</td>\n",
       "      <td>-120.39</td>\n",
       "      <td>US</td>\n",
       "    </tr>\n",
       "    <tr>\n",
       "      <th>45</th>\n",
       "      <td>13</td>\n",
       "      <td>M</td>\n",
       "      <td>47.0</td>\n",
       "      <td>1</td>\n",
       "      <td>93304</td>\n",
       "      <td>BAKERSFIELD</td>\n",
       "      <td>CA</td>\n",
       "      <td>35.33</td>\n",
       "      <td>-119.02</td>\n",
       "      <td>US</td>\n",
       "    </tr>\n",
       "    <tr>\n",
       "      <th>67</th>\n",
       "      <td>17</td>\n",
       "      <td>M</td>\n",
       "      <td>52.5</td>\n",
       "      <td>1</td>\n",
       "      <td>95350</td>\n",
       "      <td>MODESTO</td>\n",
       "      <td>CA</td>\n",
       "      <td>37.67</td>\n",
       "      <td>-121.01</td>\n",
       "      <td>US</td>\n",
       "    </tr>\n",
       "    <tr>\n",
       "      <th>68</th>\n",
       "      <td>18</td>\n",
       "      <td>F</td>\n",
       "      <td>21.0</td>\n",
       "      <td>3</td>\n",
       "      <td>95825</td>\n",
       "      <td>SACRAMENTO</td>\n",
       "      <td>CA</td>\n",
       "      <td>38.58</td>\n",
       "      <td>-121.40</td>\n",
       "      <td>US</td>\n",
       "    </tr>\n",
       "    <tr>\n",
       "      <th>69</th>\n",
       "      <td>93</td>\n",
       "      <td>M</td>\n",
       "      <td>29.5</td>\n",
       "      <td>17</td>\n",
       "      <td>95825</td>\n",
       "      <td>SACRAMENTO</td>\n",
       "      <td>CA</td>\n",
       "      <td>38.58</td>\n",
       "      <td>-121.40</td>\n",
       "      <td>US</td>\n",
       "    </tr>\n",
       "    <tr>\n",
       "      <th>99</th>\n",
       "      <td>23</td>\n",
       "      <td>M</td>\n",
       "      <td>39.5</td>\n",
       "      <td>0</td>\n",
       "      <td>90049</td>\n",
       "      <td>LOS ANGELES</td>\n",
       "      <td>CA</td>\n",
       "      <td>34.08</td>\n",
       "      <td>-118.49</td>\n",
       "      <td>US</td>\n",
       "    </tr>\n",
       "    <tr>\n",
       "      <th>100</th>\n",
       "      <td>1637</td>\n",
       "      <td>M</td>\n",
       "      <td>68.0</td>\n",
       "      <td>0</td>\n",
       "      <td>90049</td>\n",
       "      <td>LOS ANGELES</td>\n",
       "      <td>CA</td>\n",
       "      <td>34.08</td>\n",
       "      <td>-118.49</td>\n",
       "      <td>US</td>\n",
       "    </tr>\n",
       "    <tr>\n",
       "      <th>101</th>\n",
       "      <td>2788</td>\n",
       "      <td>M</td>\n",
       "      <td>68.0</td>\n",
       "      <td>1</td>\n",
       "      <td>90049</td>\n",
       "      <td>LOS ANGELES</td>\n",
       "      <td>CA</td>\n",
       "      <td>34.08</td>\n",
       "      <td>-118.49</td>\n",
       "      <td>US</td>\n",
       "    </tr>\n",
       "    <tr>\n",
       "      <th>147</th>\n",
       "      <td>36</td>\n",
       "      <td>M</td>\n",
       "      <td>29.5</td>\n",
       "      <td>3</td>\n",
       "      <td>94123</td>\n",
       "      <td>SAN FRANCISCO</td>\n",
       "      <td>CA</td>\n",
       "      <td>37.80</td>\n",
       "      <td>-122.43</td>\n",
       "      <td>US</td>\n",
       "    </tr>\n",
       "  </tbody>\n",
       "</table>\n",
       "</div>"
      ],
      "text/plain": [
       "     userID gender   age  occupation  zipCode           city state    lat  \\\n",
       "41       10      F  39.5           1    95370         SONORA    CA  37.98   \n",
       "42      535      M  39.5           6    95370         SONORA    CA  37.98   \n",
       "45       13      M  47.0           1    93304    BAKERSFIELD    CA  35.33   \n",
       "67       17      M  52.5           1    95350        MODESTO    CA  37.67   \n",
       "68       18      F  21.0           3    95825     SACRAMENTO    CA  38.58   \n",
       "69       93      M  29.5          17    95825     SACRAMENTO    CA  38.58   \n",
       "99       23      M  39.5           0    90049    LOS ANGELES    CA  34.08   \n",
       "100    1637      M  68.0           0    90049    LOS ANGELES    CA  34.08   \n",
       "101    2788      M  68.0           1    90049    LOS ANGELES    CA  34.08   \n",
       "147      36      M  29.5           3    94123  SAN FRANCISCO    CA  37.80   \n",
       "\n",
       "       long country  \n",
       "41  -120.39      US  \n",
       "42  -120.39      US  \n",
       "45  -119.02      US  \n",
       "67  -121.01      US  \n",
       "68  -121.40      US  \n",
       "69  -121.40      US  \n",
       "99  -118.49      US  \n",
       "100 -118.49      US  \n",
       "101 -118.49      US  \n",
       "147 -122.43      US  "
      ]
     },
     "execution_count": 14,
     "metadata": {},
     "output_type": "execute_result"
    }
   ],
   "source": [
    "ca_mask = full[\"state\"].astype(\"str\") == \"CA\"\n",
    "len(ca_mask)\n",
    "\n",
    "ca = full[ca_mask]\n",
    "\n",
    "ca.head(10)"
   ]
  },
  {
   "cell_type": "code",
   "execution_count": 15,
   "metadata": {},
   "outputs": [
    {
     "data": {
      "text/plain": [
       "<matplotlib.figure.Figure at 0x7fb8573979e8>"
      ]
     },
     "metadata": {},
     "output_type": "display_data"
    },
    {
     "data": {
      "image/png": "[encoded data removed]",
      "text/plain": [
       "<matplotlib.figure.Figure at 0x7fb857785a58>"
      ]
     },
     "metadata": {},
     "output_type": "display_data"
    }
   ],
   "source": [
    "import matplotlib.pyplot as plt\n",
    "import matplotlib.image as mpimg\n",
    "\n",
    "california_img = mpimg.imread('california.png')\n",
    "\n",
    "plt.figure(figsize=(20,20))\n",
    "\n",
    "ax = ca.plot(kind=\"scatter\", x=\"long\", y=\"lat\", alpha=0.4)\n",
    "\n",
    "plt.imshow(california_img, extent=[-124.55, -113.80, 32.45, 42.05], alpha=0.5,\n",
    "           cmap=plt.get_cmap(\"jet\"))\n",
    "\n",
    "plt.show()"
   ]
  },
  {
   "cell_type": "code",
   "execution_count": 16,
   "metadata": {
    "collapsed": true,
    "scrolled": true
   },
   "outputs": [],
   "source": [
    "occu = {\n",
    "    0:\"other\",\n",
    "    1:\"academic/educator\",\n",
    "    2:\"artist\",\n",
    "    3:\"clerical/admin\",\n",
    "    4:\"college/grad student\",\n",
    "    5:\"customer service\",\n",
    "    6:\"doctor/health care\",\n",
    "    7:\"executive/managerial\",\n",
    "    8:\"farmer\",\n",
    "    9:\"homemaker\",\n",
    "    10:\"K-12 student\",\n",
    "    11:\"lawyer\",\n",
    "    12:\"programmer\",\n",
    "    13:\"retired\",\n",
    "    14:\"sales/marketing\",\n",
    "    15:\"scientist\",\n",
    "    16:\"self-employed\",\n",
    "    17:\"technician/engineer\",\n",
    "    18:\"tradesman/craftsman\",\n",
    "    19:\"unemployed\",\n",
    "    20:\"writer\"}\n",
    "\n",
    "\n",
    "# maybe not the case, too much space, only for plots\n",
    "users[\"occupation\"].replace(occu, inplace=True)"
   ]
  },
  {
   "cell_type": "code",
   "execution_count": 17,
   "metadata": {},
   "outputs": [
    {
     "data": {
      "text/html": [
       "<div>\n",
       "<style>\n",
       "    .dataframe thead tr:only-child th {\n",
       "        text-align: right;\n",
       "    }\n",
       "\n",
       "    .dataframe thead th {\n",
       "        text-align: left;\n",
       "    }\n",
       "\n",
       "    .dataframe tbody tr th {\n",
       "        vertical-align: top;\n",
       "    }\n",
       "</style>\n",
       "<table border=\"1\" class=\"dataframe\">\n",
       "  <thead>\n",
       "    <tr style=\"text-align: right;\">\n",
       "      <th></th>\n",
       "      <th>userID</th>\n",
       "      <th>gender</th>\n",
       "      <th>age</th>\n",
       "      <th>occupation</th>\n",
       "      <th>zipCode</th>\n",
       "    </tr>\n",
       "  </thead>\n",
       "  <tbody>\n",
       "    <tr>\n",
       "      <th>0</th>\n",
       "      <td>1</td>\n",
       "      <td>F</td>\n",
       "      <td>12.0</td>\n",
       "      <td>K-12 student</td>\n",
       "      <td>48067</td>\n",
       "    </tr>\n",
       "    <tr>\n",
       "      <th>1</th>\n",
       "      <td>2</td>\n",
       "      <td>M</td>\n",
       "      <td>68.0</td>\n",
       "      <td>self-employed</td>\n",
       "      <td>70072</td>\n",
       "    </tr>\n",
       "    <tr>\n",
       "      <th>2</th>\n",
       "      <td>3</td>\n",
       "      <td>M</td>\n",
       "      <td>29.5</td>\n",
       "      <td>scientist</td>\n",
       "      <td>55117</td>\n",
       "    </tr>\n",
       "  </tbody>\n",
       "</table>\n",
       "</div>"
      ],
      "text/plain": [
       "   userID gender   age     occupation  zipCode\n",
       "0       1      F  12.0   K-12 student    48067\n",
       "1       2      M  68.0  self-employed    70072\n",
       "2       3      M  29.5      scientist    55117"
      ]
     },
     "execution_count": 17,
     "metadata": {},
     "output_type": "execute_result"
    }
   ],
   "source": [
    "users.head(3)"
   ]
  },
  {
   "cell_type": "code",
   "execution_count": null,
   "metadata": {},
   "outputs": [],
   "source": []
  },
  {
   "cell_type": "code",
   "execution_count": 18,
   "metadata": {},
   "outputs": [
    {
     "name": "stdout",
     "output_type": "stream",
     "text": [
      "M    4331\n",
      "F    1709\n",
      "Name: gender, dtype: int64\n"
     ]
    },
    {
     "data": {
      "text/plain": [
       "<matplotlib.axes._subplots.AxesSubplot at 0x7fb8573b40b8>"
      ]
     },
     "execution_count": 18,
     "metadata": {},
     "output_type": "execute_result"
    },
    {
     "data": {
      "image/png": "[encoded data removed]",
      "text/plain": [
       "<matplotlib.figure.Figure at 0x7fb85739ce48>"
      ]
     },
     "metadata": {},
     "output_type": "display_data"
    }
   ],
   "source": [
    "print(users[\"gender\"].value_counts(dropna=False))\n",
    "users[\"gender\"].hist()\n"
   ]
  },
  {
   "cell_type": "code",
   "execution_count": 19,
   "metadata": {},
   "outputs": [
    {
     "name": "stdout",
     "output_type": "stream",
     "text": [
      "29.5    2096\n",
      "39.5    1193\n",
      "21.0    1103\n",
      "47.0     550\n",
      "52.5     496\n",
      "68.0     380\n",
      "12.0     222\n",
      "Name: age, dtype: int64\n"
     ]
    },
    {
     "data": {
      "text/plain": [
       "<matplotlib.axes._subplots.AxesSubplot at 0x7fb8573a25c0>"
      ]
     },
     "execution_count": 19,
     "metadata": {},
     "output_type": "execute_result"
    },
    {
     "data": {
      "image/png": "[encoded data removed]",
      "text/plain": [
       "<matplotlib.figure.Figure at 0x7fb857782438>"
      ]
     },
     "metadata": {},
     "output_type": "display_data"
    }
   ],
   "source": [
    "print(users[\"age\"].value_counts(dropna=False))\n",
    "users[\"age\"].hist()"
   ]
  },
  {
   "cell_type": "code",
   "execution_count": 20,
   "metadata": {},
   "outputs": [
    {
     "data": {
      "text/plain": [
       "<matplotlib.axes._subplots.AxesSubplot at 0x7fb85743b358>"
      ]
     },
     "execution_count": 20,
     "metadata": {},
     "output_type": "execute_result"
    },
    {
     "data": {
      "image/png": "[encoded data removed]",
      "text/plain": [
       "<matplotlib.figure.Figure at 0x7fb85750c320>"
      ]
     },
     "metadata": {},
     "output_type": "display_data"
    }
   ],
   "source": [
    "users[\"occupation\"].hist()"
   ]
  },
  {
   "cell_type": "code",
   "execution_count": null,
   "metadata": {},
   "outputs": [],
   "source": []
  },
  {
   "cell_type": "code",
   "execution_count": 21,
   "metadata": {},
   "outputs": [
    {
     "name": "stdout",
     "output_type": "stream",
     "text": [
      "gender  occupation          \n",
      "F       K-12 student             66\n",
      "        academic/educator       209\n",
      "        artist                   91\n",
      "        clerical/admin          100\n",
      "        college/grad student    234\n",
      "        customer service         31\n",
      "        doctor/health care      102\n",
      "        executive/managerial    139\n",
      "        farmer                    3\n",
      "        homemaker                89\n",
      "        lawyer                   22\n",
      "        other                   232\n",
      "        programmer               50\n",
      "        retired                  34\n",
      "        sales/marketing          79\n",
      "        scientist                28\n",
      "        self-employed            51\n",
      "        technician/engineer      52\n",
      "        tradesman/craftsman       4\n",
      "        unemployed               15\n",
      "        writer                   78\n",
      "M       K-12 student            129\n",
      "        academic/educator       319\n",
      "        artist                  176\n",
      "        clerical/admin           73\n",
      "        college/grad student    525\n",
      "        customer service         81\n",
      "        doctor/health care      134\n",
      "        executive/managerial    540\n",
      "        farmer                   14\n",
      "        homemaker                 3\n",
      "        lawyer                  107\n",
      "        other                   479\n",
      "        programmer              338\n",
      "        retired                 108\n",
      "        sales/marketing         223\n",
      "        scientist               116\n",
      "        self-employed           190\n",
      "        technician/engineer     450\n",
      "        tradesman/craftsman      66\n",
      "        unemployed               57\n",
      "        writer                  203\n",
      "dtype: int64\n"
     ]
    }
   ],
   "source": [
    "u_go = users.groupby([\"gender\", \"occupation\"]).size()\n",
    "print(u_go)"
   ]
  },
  {
   "cell_type": "code",
   "execution_count": 22,
   "metadata": {},
   "outputs": [
    {
     "data": {
      "image/png": "[encoded data removed]",
      "text/plain": [
       "<matplotlib.figure.Figure at 0x7fb857302b00>"
      ]
     },
     "metadata": {},
     "output_type": "display_data"
    }
   ],
   "source": [
    "u_go.unstack().plot(kind='bar',).legend(loc='best', bbox_to_anchor=(1, 1.3))\n",
    "plt.show()"
   ]
  },
  {
   "cell_type": "code",
   "execution_count": 23,
   "metadata": {},
   "outputs": [
    {
     "data": {
      "text/plain": [
       "<matplotlib.axes._subplots.AxesSubplot at 0x7fb85724c5f8>"
      ]
     },
     "execution_count": 23,
     "metadata": {},
     "output_type": "execute_result"
    },
    {
     "data": {
      "image/png": "[encoded data removed]",
      "text/plain": [
       "<matplotlib.figure.Figure at 0x7fb857278d30>"
      ]
     },
     "metadata": {},
     "output_type": "display_data"
    }
   ],
   "source": [
    "f_state = full.groupby(\"state\").size()\n",
    "#print(f_state)\n",
    "\n",
    "plt.figure(figsize=(20,20))\n",
    "f_state.plot(kind=\"bar\")"
   ]
  },
  {
   "cell_type": "code",
   "execution_count": 29,
   "metadata": {},
   "outputs": [
    {
     "name": "stdout",
     "output_type": "stream",
     "text": [
      "(5972,)\n"
     ]
    }
   ],
   "source": [
    "state_mask = (full[\"state\"].astype(\"str\") == \"CA\") | (full[\"state\"].astype(\"str\") == \"NY\")\n",
    "# | (full[\"state\"].astype(\"str\") == \"MN\") | (full[\"state\"].astype(\"str\") == \"TX\")\n",
    "# state_mask_ca = full[\"state\"].astype(\"str\") in [\"CA\", \"NY\"]\n",
    "\n",
    "state_mask \n",
    "print(state_mask.shape)\n",
    "\n",
    "# type(full[state_mask][\"state\"])\n",
    "# print(full[state_mask][\"state\"])"
   ]
  },
  {
   "cell_type": "code",
   "execution_count": 33,
   "metadata": {},
   "outputs": [
    {
     "data": {
      "text/plain": [
       "state  occupation\n",
       "CA     0             130\n",
       "       1              83\n",
       "       2              66\n",
       "       3              27\n",
       "       4             116\n",
       "       5              16\n",
       "       6              38\n",
       "       7             120\n",
       "       8               4\n",
       "       9               8\n",
       "       10             24\n",
       "       11             14\n",
       "       12             83\n",
       "       13             31\n",
       "       14             57\n",
       "       15             40\n",
       "       16             43\n",
       "       17            104\n",
       "       18              4\n",
       "       19             15\n",
       "       20             77\n",
       "NY     0              61\n",
       "       1              39\n",
       "       2              31\n",
       "       3               8\n",
       "       4              50\n",
       "       5               9\n",
       "       6              13\n",
       "       7              75\n",
       "       8               2\n",
       "       9               6\n",
       "       10             14\n",
       "       11             13\n",
       "       12             23\n",
       "       13             10\n",
       "       14             20\n",
       "       15              7\n",
       "       16             22\n",
       "       17             17\n",
       "       18              8\n",
       "       19              7\n",
       "       20             29\n",
       "dtype: int64"
      ]
     },
     "execution_count": 33,
     "metadata": {},
     "output_type": "execute_result"
    }
   ],
   "source": [
    "cany = full[state_mask].groupby([\"state\", \"occupation\"]).size()\n",
    "\n",
    "cany"
   ]
  },
  {
   "cell_type": "code",
   "execution_count": 40,
   "metadata": {},
   "outputs": [
    {
     "data": {
      "text/plain": [
       "<matplotlib.axes._subplots.AxesSubplot at 0x7fb856a9f8d0>"
      ]
     },
     "execution_count": 40,
     "metadata": {},
     "output_type": "execute_result"
    },
    {
     "data": {
      "image/png": "[encoded data removed]",
      "text/plain": [
       "<matplotlib.figure.Figure at 0x7fb856c86550>"
      ]
     },
     "metadata": {},
     "output_type": "display_data"
    }
   ],
   "source": [
    "cany.unstack().plot(kind='bar',figsize=(15,15)) #.legend(loc='best', bbox_to_anchor=(1, 1.3))\n"
   ]
  },
  {
   "cell_type": "code",
   "execution_count": 41,
   "metadata": {},
   "outputs": [
    {
     "data": {
      "text/plain": [
       "<matplotlib.axes._subplots.AxesSubplot at 0x7fb856b75c88>"
      ]
     },
     "execution_count": 41,
     "metadata": {},
     "output_type": "execute_result"
    },
    {
     "data": {
      "image/png": "[encoded data removed]",
      "text/plain": [
       "<matplotlib.figure.Figure at 0x7fb856a3af98>"
      ]
     },
     "metadata": {},
     "output_type": "display_data"
    }
   ],
   "source": [
    "canymf = full[state_mask].groupby([\"state\", \"gender\", \"occupation\"]).size()\n",
    "\n",
    "canymf.unstack().plot(kind='bar',figsize=(15,15))"
   ]
  },
  {
   "cell_type": "code",
   "execution_count": 13,
   "metadata": {
    "collapsed": true
   },
   "outputs": [],
   "source": [
    "# users[\"gender\"] = users[\"gender\"].astype(\"category\")\n",
    "# users[\"gender\"].cat.set_categories([\"M\",\"F\"], inplace=True)"
   ]
  },
  {
   "cell_type": "code",
   "execution_count": null,
   "metadata": {},
   "outputs": [],
   "source": [
    "# save to csv\n",
    "# users.to_csv(path_or_buf=)"
   ]
  },
  {
   "cell_type": "code",
   "execution_count": null,
   "metadata": {},
   "outputs": [],
   "source": []
  },
  {
   "cell_type": "code",
   "execution_count": null,
   "metadata": {},
   "outputs": [],
   "source": []
  },
  {
   "cell_type": "code",
   "execution_count": null,
   "metadata": {
    "collapsed": true
   },
   "outputs": [],
   "source": []
  }
 ],
 "metadata": {
  "kernelspec": {
   "display_name": "Python 3",
   "language": "python",
   "name": "python3"
  },
  "language_info": {
   "codemirror_mode": {
    "name": "ipython",
    "version": 3
   },
   "file_extension": ".py",
   "mimetype": "text/x-python",
   "name": "python",
   "nbconvert_exporter": "python",
   "pygments_lexer": "ipython3",
   "version": "3.6.3"
  }
 },
 "nbformat": 4,
 "nbformat_minor": 2
}
