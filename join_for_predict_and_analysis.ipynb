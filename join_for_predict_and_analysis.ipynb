{
 "cells": [
  {
   "cell_type": "code",
   "execution_count": 1,
   "metadata": {
    "collapsed": true
   },
   "outputs": [],
   "source": [
    "%matplotlib inline\n",
    "\n",
    "import pandas as pd\n",
    "import numpy as np\n",
    "\n",
    "import matplotlib.pyplot as plt"
   ]
  },
  {
   "cell_type": "code",
   "execution_count": 2,
   "metadata": {},
   "outputs": [
    {
     "name": "stdout",
     "output_type": "stream",
     "text": [
      "(1000209, 5)\n",
      "   userID  movieID  rating       time               title\n",
      "0       1     2969       4  978300019   Girl, Interrupted\n",
      "1       1     1178       5  978300055  Back to the Future\n",
      "2       1     1574       4  978300055             Titanic\n"
     ]
    }
   ],
   "source": [
    "# the database used for training\n",
    "# here the movieID is different from movies\n",
    "\n",
    "um = pd.read_csv(\"test/mr_newmovie_names.csv\",sep=\",\")\n",
    "\n",
    "print(um.shape)\n",
    "print(um.head(3))"
   ]
  },
  {
   "cell_type": "code",
   "execution_count": 4,
   "metadata": {},
   "outputs": [
    {
     "data": {
      "text/plain": [
       "<matplotlib.axes._subplots.AxesSubplot at 0x7f0f968e9a20>"
      ]
     },
     "execution_count": 4,
     "metadata": {},
     "output_type": "execute_result"
    },
    {
     "data": {
      "image/png": "[encoded data removed]",
      "text/plain": [
       "<matplotlib.figure.Figure at 0x7f0f968e9080>"
      ]
     },
     "metadata": {},
     "output_type": "display_data"
    }
   ],
   "source": [
    "plt.figure(figsize=(10,10))\n",
    "plt.title(\"Votes per user\", fontsize=20)\n",
    "# plt.xlabel(\"User\", fontsize=15)\n",
    "plt.ylabel(\"Number of votes\", fontsize=15)\n",
    "um['userID'].value_counts().hist(bins=500)\n",
    "#print(c.head(5))"
   ]
  },
  {
   "cell_type": "code",
   "execution_count": 5,
   "metadata": {},
   "outputs": [
    {
     "name": "stdout",
     "output_type": "stream",
     "text": [
      "mean of ratings:          3.581564453029317\n",
      "variance of ratings:     1.2479152852902133\n",
      "std deviation of ratings: 1.1171012869432266\n"
     ]
    }
   ],
   "source": [
    "print(\"mean of ratings:          {}\".format(np.mean(um[\"rating\"])))\n",
    "print(\"variance of ratings:     {}\".format(np.var(um[\"rating\"])))\n",
    "print(\"std deviation of ratings: {}\".format(np.std(um[\"rating\"])))"
   ]
  },
  {
   "cell_type": "code",
   "execution_count": 6,
   "metadata": {},
   "outputs": [
    {
     "name": "stdout",
     "output_type": "stream",
     "text": [
      "movieID  title                                         \n",
      "2651     American Beauty                                   3428\n",
      "253      Star Wars: Episode IV - A New Hope                2991\n",
      "1106     Star Wars: Episode V - The Empire Strikes Back    2990\n",
      "dtype: int64\n",
      "movieID  title           \n",
      "3152     Song of Freedom     1\n",
      "2032     Number Seventeen    1\n",
      "389      Open Season         1\n",
      "dtype: int64\n"
     ]
    }
   ],
   "source": [
    "table = um.groupby(['movieID', 'title']).size()\n",
    "print(table.sort_values(ascending=False).head(3))\n",
    "print(table.sort_values(ascending=False).tail(3))"
   ]
  },
  {
   "cell_type": "code",
   "execution_count": null,
   "metadata": {
    "collapsed": true
   },
   "outputs": [],
   "source": []
  },
  {
   "cell_type": "code",
   "execution_count": 7,
   "metadata": {},
   "outputs": [
    {
     "name": "stdout",
     "output_type": "stream",
     "text": [
      "269.88909875876953\n",
      "3428\n",
      "1\n"
     ]
    }
   ],
   "source": [
    "print(table.mean())\n",
    "print(table.max())\n",
    "print(table.min())"
   ]
  },
  {
   "cell_type": "code",
   "execution_count": 8,
   "metadata": {},
   "outputs": [
    {
     "name": "stdout",
     "output_type": "stream",
     "text": [
      "rating                                  1      2      3      4      5  \\\n",
      "movieID title                                                           \n",
      "0       Toy Story                    16.0   61.0  345.0  835.0  820.0   \n",
      "1       Jumanji                      42.0  108.0  266.0  237.0   48.0   \n",
      "2       Grumpier Old Men             44.0   95.0  191.0  105.0   43.0   \n",
      "3       Waiting to Exhale            21.0   47.0   65.0   31.0    6.0   \n",
      "4       Father of the Bride Part II  28.0   54.0  118.0   80.0   16.0   \n",
      "5       Heat                         14.0   58.0  216.0  392.0  260.0   \n",
      "6       Sabrina                      18.0   49.0  179.0  151.0   61.0   \n",
      "7       Tom and Huck                  4.0   15.0   28.0   18.0    3.0   \n",
      "8       Sudden Death                 16.0   29.0   33.0   22.0    2.0   \n",
      "9       GoldenEye                    15.0   87.0  299.0  377.0  110.0   \n",
      "\n",
      "rating                               num_votes  \n",
      "movieID title                                   \n",
      "0       Toy Story                       2077.0  \n",
      "1       Jumanji                          701.0  \n",
      "2       Grumpier Old Men                 478.0  \n",
      "3       Waiting to Exhale                170.0  \n",
      "4       Father of the Bride Part II      296.0  \n",
      "5       Heat                             940.0  \n",
      "6       Sabrina                          458.0  \n",
      "7       Tom and Huck                      68.0  \n",
      "8       Sudden Death                     102.0  \n",
      "9       GoldenEye                        888.0  \n"
     ]
    }
   ],
   "source": [
    "table = pd.pivot_table(um, index=['movieID', 'title'], columns='rating', aggfunc='count', values='userID')\n",
    "table['num_votes'] = table.sum(axis=1)\n",
    "print(table.head(10))"
   ]
  },
  {
   "cell_type": "code",
   "execution_count": 9,
   "metadata": {},
   "outputs": [
    {
     "name": "stdout",
     "output_type": "stream",
     "text": [
      "rating\n",
      "1            432\n",
      "2            301\n",
      "3            194\n",
      "4            217\n",
      "5            474\n",
      "num_votes      0\n",
      "dtype: int64\n",
      "rating\n",
      "1            0\n",
      "2            0\n",
      "3            0\n",
      "4            0\n",
      "5            0\n",
      "num_votes    0\n",
      "dtype: int64\n"
     ]
    }
   ],
   "source": [
    "print(table.isnull().sum())\n",
    "table.fillna(0, inplace=True)\n",
    "print(table.isnull().sum())"
   ]
  },
  {
   "cell_type": "code",
   "execution_count": 10,
   "metadata": {
    "collapsed": true
   },
   "outputs": [],
   "source": [
    "def mean_vote(row):\n",
    "    if sum(row)==0:\n",
    "        return 0\n",
    "    return (row[1] + 2*row[2] + 3*row[3] + 4*row[4] + 5*row[5])/(row[1]+row[2]+row[3]+row[4]+row[5])\n",
    "\n",
    "\n",
    "def laplace_score(row):\n",
    "    if sum(row)==0:\n",
    "        return 0\n",
    "    \n",
    "    return (1.*(row[1]+1) + 2.*(row[2]+1) + 3.*(row[3]+1) + 4.*(row[4]+1) + 5.*(row[5]+1))/(row[1]+row[2]+row[3]+row[4]+row[5]+5)\n"
   ]
  },
  {
   "cell_type": "code",
   "execution_count": 11,
   "metadata": {},
   "outputs": [
    {
     "data": {
      "text/html": [
       "<div>\n",
       "<style>\n",
       "    .dataframe thead tr:only-child th {\n",
       "        text-align: right;\n",
       "    }\n",
       "\n",
       "    .dataframe thead th {\n",
       "        text-align: left;\n",
       "    }\n",
       "\n",
       "    .dataframe tbody tr th {\n",
       "        vertical-align: top;\n",
       "    }\n",
       "</style>\n",
       "<table border=\"1\" class=\"dataframe\">\n",
       "  <thead>\n",
       "    <tr style=\"text-align: right;\">\n",
       "      <th></th>\n",
       "      <th>rating</th>\n",
       "      <th>1</th>\n",
       "      <th>2</th>\n",
       "      <th>3</th>\n",
       "      <th>4</th>\n",
       "      <th>5</th>\n",
       "      <th>num_votes</th>\n",
       "      <th>mean_vote</th>\n",
       "      <th>laplace_score</th>\n",
       "    </tr>\n",
       "    <tr>\n",
       "      <th>movieID</th>\n",
       "      <th>title</th>\n",
       "      <th></th>\n",
       "      <th></th>\n",
       "      <th></th>\n",
       "      <th></th>\n",
       "      <th></th>\n",
       "      <th></th>\n",
       "      <th></th>\n",
       "      <th></th>\n",
       "    </tr>\n",
       "  </thead>\n",
       "  <tbody>\n",
       "    <tr>\n",
       "      <th>0</th>\n",
       "      <th>Toy Story</th>\n",
       "      <td>16.0</td>\n",
       "      <td>61.0</td>\n",
       "      <td>345.0</td>\n",
       "      <td>835.0</td>\n",
       "      <td>820.0</td>\n",
       "      <td>2077.0</td>\n",
       "      <td>4.146846</td>\n",
       "      <td>4.144092</td>\n",
       "    </tr>\n",
       "    <tr>\n",
       "      <th>1</th>\n",
       "      <th>Jumanji</th>\n",
       "      <td>42.0</td>\n",
       "      <td>108.0</td>\n",
       "      <td>266.0</td>\n",
       "      <td>237.0</td>\n",
       "      <td>48.0</td>\n",
       "      <td>701.0</td>\n",
       "      <td>3.201141</td>\n",
       "      <td>3.199717</td>\n",
       "    </tr>\n",
       "    <tr>\n",
       "      <th>2</th>\n",
       "      <th>Grumpier Old Men</th>\n",
       "      <td>44.0</td>\n",
       "      <td>95.0</td>\n",
       "      <td>191.0</td>\n",
       "      <td>105.0</td>\n",
       "      <td>43.0</td>\n",
       "      <td>478.0</td>\n",
       "      <td>3.016736</td>\n",
       "      <td>3.016563</td>\n",
       "    </tr>\n",
       "  </tbody>\n",
       "</table>\n",
       "</div>"
      ],
      "text/plain": [
       "rating                       1      2      3      4      5  num_votes  \\\n",
       "movieID title                                                           \n",
       "0       Toy Story         16.0   61.0  345.0  835.0  820.0     2077.0   \n",
       "1       Jumanji           42.0  108.0  266.0  237.0   48.0      701.0   \n",
       "2       Grumpier Old Men  44.0   95.0  191.0  105.0   43.0      478.0   \n",
       "\n",
       "rating                    mean_vote  laplace_score  \n",
       "movieID title                                       \n",
       "0       Toy Story          4.146846       4.144092  \n",
       "1       Jumanji            3.201141       3.199717  \n",
       "2       Grumpier Old Men   3.016736       3.016563  "
      ]
     },
     "execution_count": 11,
     "metadata": {},
     "output_type": "execute_result"
    }
   ],
   "source": [
    "table['mean_vote'] = table.apply(mean_vote, axis=1)\n",
    "table['laplace_score'] = table.apply(laplace_score, axis=1)\n",
    "table.head(3)"
   ]
  },
  {
   "cell_type": "code",
   "execution_count": 12,
   "metadata": {},
   "outputs": [
    {
     "name": "stdout",
     "output_type": "stream",
     "text": [
      "max mean vote:     5.0\n",
      "min mean vote:     1.0\n",
      "max laplace score: 4.551075268817204\n",
      "min laplace score: 1.489795918367347\n"
     ]
    }
   ],
   "source": [
    "print(\"max mean vote:     {}\".format(table['mean_vote'].max()))\n",
    "print(\"min mean vote:     {}\".format(table['mean_vote'].min()))\n",
    "print(\"max laplace score: {}\".format(table['laplace_score'].max()))\n",
    "print(\"min laplace score: {}\".format(table['laplace_score'].min()))"
   ]
  },
  {
   "cell_type": "code",
   "execution_count": 13,
   "metadata": {},
   "outputs": [
    {
     "name": "stdout",
     "output_type": "stream",
     "text": [
      "rating                                      num_votes  mean_vote  \\\n",
      "movieID title                                                      \n",
      "926     Schlafes Bruder (Brother of Sleep)        1.0        5.0   \n",
      "3635    Bittersweet Motel                         1.0        5.0   \n",
      "1652    Follow the Bitch                          1.0        5.0   \n",
      "3152    Song of Freedom                           1.0        5.0   \n",
      "744     Gate of Heavenly Peace, The               3.0        5.0   \n",
      "3054    Baby, The                                 1.0        5.0   \n",
      "3367    One Little Indian                         1.0        5.0   \n",
      "3010    Smashing Time                             2.0        5.0   \n",
      "2955    Ulysses (Ulisse)                          1.0        5.0   \n",
      "3414    Lured                                     1.0        5.0   \n",
      "\n",
      "rating                                      laplace_score  \n",
      "movieID title                                              \n",
      "926     Schlafes Bruder (Brother of Sleep)       3.333333  \n",
      "3635    Bittersweet Motel                        3.333333  \n",
      "1652    Follow the Bitch                         3.333333  \n",
      "3152    Song of Freedom                          3.333333  \n",
      "744     Gate of Heavenly Peace, The              3.750000  \n",
      "3054    Baby, The                                3.333333  \n",
      "3367    One Little Indian                        3.333333  \n",
      "3010    Smashing Time                            3.571429  \n",
      "2955    Ulysses (Ulisse)                         3.333333  \n",
      "3414    Lured                                    3.333333  \n"
     ]
    }
   ],
   "source": [
    "print(table.sort_values(['mean_vote'], ascending=False).iloc[:,5:8].head(10))"
   ]
  },
  {
   "cell_type": "code",
   "execution_count": 14,
   "metadata": {},
   "outputs": [
    {
     "name": "stdout",
     "output_type": "stream",
     "text": [
      "rating                                                      num_votes  \\\n",
      "movieID title                                                           \n",
      "309     Shawshank Redemption, The                              2227.0   \n",
      "1839    Seven Samurai (The Magnificent Seven) (Shichini...      628.0   \n",
      "802     Godfather, The                                         2223.0   \n",
      "49      Usual Suspects, The                                    1783.0   \n",
      "708     Close Shave, A                                          657.0   \n",
      "513     Schindler's List                                       2304.0   \n",
      "2698    Sanjuro                                                  69.0   \n",
      "1066    Wrong Trousers, The                                     882.0   \n",
      "861     Sunset Blvd. (a.k.a. Sunset Boulevard)                  470.0   \n",
      "1108    Raiders of the Lost Ark                                2514.0   \n",
      "\n",
      "rating                                                      mean_vote  \\\n",
      "movieID title                                                           \n",
      "309     Shawshank Redemption, The                            4.554558   \n",
      "1839    Seven Samurai (The Magnificent Seven) (Shichini...   4.560510   \n",
      "802     Godfather, The                                       4.524966   \n",
      "49      Usual Suspects, The                                  4.517106   \n",
      "708     Close Shave, A                                       4.520548   \n",
      "513     Schindler's List                                     4.510417   \n",
      "2698    Sanjuro                                              4.608696   \n",
      "1066    Wrong Trousers, The                                  4.507937   \n",
      "861     Sunset Blvd. (a.k.a. Sunset Boulevard)               4.491489   \n",
      "1108    Raiders of the Lost Ark                              4.477725   \n",
      "\n",
      "rating                                                      laplace_score  \n",
      "movieID title                                                              \n",
      "309     Shawshank Redemption, The                                4.551075  \n",
      "1839    Seven Samurai (The Magnificent Seven) (Shichini...       4.548183  \n",
      "802     Godfather, The                                           4.521544  \n",
      "49      Usual Suspects, The                                      4.512864  \n",
      "708     Close Shave, A                                           4.509063  \n",
      "513     Schindler's List                                         4.507146  \n",
      "2698    Sanjuro                                                  4.500000  \n",
      "1066    Wrong Trousers, The                                      4.499436  \n",
      "861     Sunset Blvd. (a.k.a. Sunset Boulevard)                   4.475789  \n",
      "1108    Raiders of the Lost Ark                                  4.474792  \n"
     ]
    }
   ],
   "source": [
    "print(table.sort_values(['laplace_score'], ascending=False).iloc[:,5:8].head(10))"
   ]
  },
  {
   "cell_type": "code",
   "execution_count": 15,
   "metadata": {},
   "outputs": [
    {
     "name": "stdout",
     "output_type": "stream",
     "text": [
      "[   0    1    2 ... 3703 3704 3705]\n",
      "(3706,)\n"
     ]
    }
   ],
   "source": [
    "v = um['movieID'].unique()\n",
    "print(np.sort(v))\n",
    "print(v.shape)"
   ]
  },
  {
   "cell_type": "code",
   "execution_count": 16,
   "metadata": {},
   "outputs": [
    {
     "name": "stdout",
     "output_type": "stream",
     "text": [
      "rating                                                         1     2      3  \\\n",
      "movieID title                                                                   \n",
      "309     Shawshank Redemption, The                            8.0  25.0  148.0   \n",
      "1839    Seven Samurai (The Magnificent Seven) (Shichini...   4.0  11.0   39.0   \n",
      "802     Godfather, The                                      18.0  38.0  178.0   \n",
      "49      Usual Suspects, The                                  8.0  31.0  136.0   \n",
      "708     Close Shave, A                                       3.0   2.0   40.0   \n",
      "\n",
      "rating                                                          4       5  \\\n",
      "movieID title                                                               \n",
      "309     Shawshank Redemption, The                           589.0  1457.0   \n",
      "1839    Seven Samurai (The Magnificent Seven) (Shichini...  149.0   425.0   \n",
      "802     Godfather, The                                      514.0  1475.0   \n",
      "49      Usual Suspects, The                                 464.0  1144.0   \n",
      "708     Close Shave, A                                      217.0   395.0   \n",
      "\n",
      "rating                                                      num_votes  \\\n",
      "movieID title                                                           \n",
      "309     Shawshank Redemption, The                              2227.0   \n",
      "1839    Seven Samurai (The Magnificent Seven) (Shichini...      628.0   \n",
      "802     Godfather, The                                         2223.0   \n",
      "49      Usual Suspects, The                                    1783.0   \n",
      "708     Close Shave, A                                          657.0   \n",
      "\n",
      "rating                                                      mean_vote  \\\n",
      "movieID title                                                           \n",
      "309     Shawshank Redemption, The                            4.554558   \n",
      "1839    Seven Samurai (The Magnificent Seven) (Shichini...   4.560510   \n",
      "802     Godfather, The                                       4.524966   \n",
      "49      Usual Suspects, The                                  4.517106   \n",
      "708     Close Shave, A                                       4.520548   \n",
      "\n",
      "rating                                                      laplace_score  \n",
      "movieID title                                                              \n",
      "309     Shawshank Redemption, The                                4.551075  \n",
      "1839    Seven Samurai (The Magnificent Seven) (Shichini...       4.548183  \n",
      "802     Godfather, The                                           4.521544  \n",
      "49      Usual Suspects, The                                      4.512864  \n",
      "708     Close Shave, A                                           4.509063  \n"
     ]
    }
   ],
   "source": [
    "# bisogna tirare fuori gli index di questa tabella ...\n",
    "\n",
    "top100t = table.sort_values(['laplace_score'], ascending=False).iloc[:100]\n",
    "print(top100t.head(5))"
   ]
  },
  {
   "cell_type": "code",
   "execution_count": 17,
   "metadata": {},
   "outputs": [
    {
     "name": "stdout",
     "output_type": "stream",
     "text": [
      "100\n"
     ]
    }
   ],
   "source": [
    "top100_laplace = []\n",
    "\n",
    "print(top100t.shape[0])\n",
    "\n",
    "for _ in range(top100t.shape[0]):\n",
    "    top100_laplace.append(top100t.to_records()[_][0])\n",
    "    \n",
    "top100_laplace = np.array(top100_laplace)"
   ]
  },
  {
   "cell_type": "code",
   "execution_count": 18,
   "metadata": {},
   "outputs": [
    {
     "name": "stdout",
     "output_type": "stream",
     "text": [
      "[ 309 1839  802   49  708  513 2698 1066  861 1108  843  253  713 1090\n",
      " 1122 1117  689  851 2557 3203 1114  852 1104  862 1158  847 2816 1170\n",
      " 3081 1131  579 1133 2809 1848 1160 1059 2873 1175 2131 2651 1143 2374\n",
      " 3197 1107 1192 2918 1065 1142  648 1054  849 2005 1106  892  837 2526\n",
      " 1113 1168  869 1084  287  838 1162 1134 1123  527  646  842  844 3237\n",
      " 1765 1180 3236 2164 2167  593 1127 1135 1184  908 1186  858 2021  316\n",
      " 1155  865 1207 2875 1118 3488 2599  890  106 1055 1100 2729 3235  653\n",
      "  893 3651]\n"
     ]
    }
   ],
   "source": [
    "print(top100_laplace)\n",
    "\n",
    "np.save(\"top100_laplace\", top100_laplace)"
   ]
  },
  {
   "cell_type": "code",
   "execution_count": 19,
   "metadata": {},
   "outputs": [
    {
     "name": "stdout",
     "output_type": "stream",
     "text": [
      "rating                                                  num_votes  mean_vote  \\\n",
      "movieID title                                                                  \n",
      "2651    American Beauty                                    3428.0   4.317386   \n",
      "253     Star Wars: Episode IV - A New Hope                 2991.0   4.453694   \n",
      "1106    Star Wars: Episode V - The Empire Strikes Back     2990.0   4.292977   \n",
      "1120    Star Wars: Episode VI - Return of the Jedi         2883.0   4.022893   \n",
      "466     Jurassic Park                                      2672.0   3.763847   \n",
      "1848    Saving Private Ryan                                2653.0   4.337354   \n",
      "575     Terminator 2: Judgment Day                         2649.0   4.058513   \n",
      "2374    Matrix, The                                        2590.0   4.315830   \n",
      "1178    Back to the Future                                 2583.0   3.990321   \n",
      "579     Silence of the Lambs, The                          2578.0   4.351823   \n",
      "\n",
      "rating                                                  laplace_score  \n",
      "movieID title                                                          \n",
      "2651    American Beauty                                      4.315468  \n",
      "253     Star Wars: Episode IV - A New Hope                   4.451268  \n",
      "1106    Star Wars: Episode V - The Empire Strikes Back       4.290818  \n",
      "1120    Star Wars: Episode VI - Return of the Jedi           4.021122  \n",
      "466     Jurassic Park                                        3.762421  \n",
      "1848    Saving Private Ryan                                  4.334838  \n",
      "575     Terminator 2: Judgment Day                           4.056518  \n",
      "2374    Matrix, The                                          4.313295  \n",
      "1178    Back to the Future                                   3.988408  \n",
      "579     Silence of the Lambs, The                            4.349206  \n"
     ]
    }
   ],
   "source": [
    "print(table.sort_values(['num_votes'], ascending=False).iloc[:,5:8].head(10))"
   ]
  },
  {
   "cell_type": "code",
   "execution_count": 20,
   "metadata": {
    "collapsed": true
   },
   "outputs": [],
   "source": [
    "# highest number of votes\n",
    "\n",
    "top100t = table.sort_values(['num_votes'], ascending=False).iloc[:100]"
   ]
  },
  {
   "cell_type": "code",
   "execution_count": 21,
   "metadata": {},
   "outputs": [
    {
     "name": "stdout",
     "output_type": "stream",
     "text": [
      "100\n"
     ]
    }
   ],
   "source": [
    "top100_num_votes = []\n",
    "\n",
    "print(top100t.shape[0])\n",
    "\n",
    "for _ in range(top100t.shape[0]):\n",
    "    top100_num_votes.append(top100t.to_records()[_][0])\n",
    "    \n",
    "top100_num_votes = np.array(top100_num_votes)"
   ]
  },
  {
   "cell_type": "code",
   "execution_count": 22,
   "metadata": {},
   "outputs": [
    {
     "name": "stdout",
     "output_type": "stream",
     "text": [
      "[2651  253 1106 1120  466 1848  575 2374 1178  579 1449 1108  593 2557\n",
      "  106 2203 1107  513 1485 1173 1025 2426 2785  309  802  346 2511  287\n",
      " 1148    0 1124 2708  443 3341 1110  527 2775 1167   49   33 2586  737\n",
      " 2958 1104  858  863 1050 2162 1288 1131  851  971 1123 1478  367 1199\n",
      " 1820 1059 2898 1215 1563 1574 1788  627 2400 3550   31 1993 2592 2099\n",
      " 2710 3238  576 2748 1275 2480 1295  578 1618 1445 1212 3186  216  370\n",
      " 2501 1135 1453 1406 3248 1743  713 2494   38   20 1294 2599  574 2213\n",
      " 1130  699]\n"
     ]
    }
   ],
   "source": [
    "print(top100_num_votes)\n",
    "\n",
    "np.save(\"top100_num_votes\", top100_num_votes)"
   ]
  },
  {
   "cell_type": "code",
   "execution_count": 23,
   "metadata": {},
   "outputs": [
    {
     "name": "stdout",
     "output_type": "stream",
     "text": [
      "26\n"
     ]
    }
   ],
   "source": [
    "intersection = np.in1d(top100_num_votes, top100_laplace)\n",
    "print(sum(intersection))"
   ]
  },
  {
   "cell_type": "code",
   "execution_count": 24,
   "metadata": {},
   "outputs": [
    {
     "name": "stdout",
     "output_type": "stream",
     "text": [
      "[  49  106  253  287  309  513  527  579  593  713  802  851  858 1059\n",
      " 1104 1106 1107 1108 1123 1131 1135 1848 2374 2557 2599 2651]\n",
      "26\n"
     ]
    }
   ],
   "source": [
    "intersection = np.intersect1d(top100_num_votes, top100_laplace)\n",
    "print(intersection)\n",
    "print(intersection.shape[0])"
   ]
  },
  {
   "cell_type": "code",
   "execution_count": 152,
   "metadata": {},
   "outputs": [
    {
     "name": "stdout",
     "output_type": "stream",
     "text": [
      "movieID  title                                                               \n",
      "49       Usual Suspects, The                                                      8.0\n",
      "106      Braveheart                                                              37.0\n",
      "253      Star Wars: Episode IV - A New Hope                                      19.0\n",
      "287      Pulp Fiction                                                            47.0\n",
      "309      Shawshank Redemption, The                                                8.0\n",
      "513      Schindler's List                                                        19.0\n",
      "527      Blade Runner                                                            13.0\n",
      "579      Silence of the Lambs, The                                               37.0\n",
      "593      Fargo                                                                   57.0\n",
      "713      Dr. Strangelove or: How I Learned to Stop Worrying and Love the Bomb     8.0\n",
      "Name: 1, dtype: float64\n"
     ]
    }
   ],
   "source": [
    "print(table.loc[intersection, 1].head(10))"
   ]
  },
  {
   "cell_type": "code",
   "execution_count": null,
   "metadata": {
    "collapsed": true
   },
   "outputs": [],
   "source": []
  },
  {
   "cell_type": "code",
   "execution_count": null,
   "metadata": {
    "collapsed": true
   },
   "outputs": [],
   "source": []
  },
  {
   "cell_type": "code",
   "execution_count": null,
   "metadata": {
    "collapsed": true
   },
   "outputs": [],
   "source": []
  }
 ],
 "metadata": {
  "kernelspec": {
   "display_name": "Python 3",
   "language": "python",
   "name": "python3"
  },
  "language_info": {
   "codemirror_mode": {
    "name": "ipython",
    "version": 3
   },
   "file_extension": ".py",
   "mimetype": "text/x-python",
   "name": "python",
   "nbconvert_exporter": "python",
   "pygments_lexer": "ipython3",
   "version": "3.6.3"
  }
 },
 "nbformat": 4,
 "nbformat_minor": 2
}
