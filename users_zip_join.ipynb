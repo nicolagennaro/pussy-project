{
 "cells": [
  {
   "cell_type": "code",
   "execution_count": 1,
   "metadata": {
    "collapsed": true
   },
   "outputs": [],
   "source": [
    "%matplotlib inline\n",
    "\n",
    "import pandas as pd\n",
    "import numpy as np\n",
    "\n",
    "import matplotlib.pyplot as plt"
   ]
  },
  {
   "cell_type": "code",
   "execution_count": 2,
   "metadata": {},
   "outputs": [
    {
     "name": "stdout",
     "output_type": "stream",
     "text": [
      "users.shape (6040, 5)\n",
      "   userID gender  age  occupation zipCode\n",
      "0       1      F    1          10   48067\n",
      "1       2      M   56          16   70072\n",
      "2       3      M   25          15   55117\n",
      "3       4      M   45           7   02460\n",
      "4       5      M   25          20   55455\n",
      "5       6      F   50           9   55117\n",
      "6       7      M   35           1   06810\n",
      "7       8      M   25          12   11413\n",
      "8       9      M   25          17   61614\n",
      "9      10      F   35           1   95370\n"
     ]
    },
    {
     "name": "stderr",
     "output_type": "stream",
     "text": [
      "/home/nicola/anaconda3/lib/python3.6/site-packages/ipykernel_launcher.py:1: ParserWarning: Falling back to the 'python' engine because the 'c' engine does not support regex separators (separators > 1 char and different from '\\s+' are interpreted as regex); you can avoid this warning by specifying engine='python'.\n",
      "  \"\"\"Entry point for launching an IPython kernel.\n"
     ]
    }
   ],
   "source": [
    "users = pd.read_csv(\"users.dat\", sep=\"::\", header=None)\n",
    "print(\"users.shape {}\".format(users.shape))\n",
    "\n",
    "usersHeader = [\"userID\", \"gender\", \"age\", \"occupation\", \"zipCode\"]\n",
    "users.columns = usersHeader\n",
    "print(users.head(10))"
   ]
  },
  {
   "cell_type": "code",
   "execution_count": 3,
   "metadata": {},
   "outputs": [
    {
     "name": "stdout",
     "output_type": "stream",
     "text": [
      "<class 'pandas.core.frame.DataFrame'>\n",
      "RangeIndex: 6040 entries, 0 to 6039\n",
      "Data columns (total 5 columns):\n",
      "userID        6040 non-null int64\n",
      "gender        6040 non-null object\n",
      "age           6040 non-null int64\n",
      "occupation    6040 non-null int64\n",
      "zipCode       6040 non-null object\n",
      "dtypes: int64(3), object(2)\n",
      "memory usage: 236.0+ KB\n",
      "None\n"
     ]
    }
   ],
   "source": [
    "print(users.info())"
   ]
  },
  {
   "cell_type": "code",
   "execution_count": 4,
   "metadata": {},
   "outputs": [
    {
     "name": "stdout",
     "output_type": "stream",
     "text": [
      "userID        False\n",
      "gender        False\n",
      "age           False\n",
      "occupation    False\n",
      "zipCode       False\n",
      "dtype: bool\n",
      "   userID gender   age            occupation zipCode\n",
      "0       1      F  12.0          K-12 student   48067\n",
      "1       2      M  68.0         self-employed   70072\n",
      "2       3      M  29.5             scientist   55117\n",
      "3       4      M  47.0  executive/managerial   02460\n",
      "4       5      M  29.5                writer   55455\n",
      "5       6      F  52.5             homemaker   55117\n",
      "6       7      M  39.5     academic/educator   06810\n",
      "7       8      M  29.5            programmer   11413\n",
      "8       9      M  29.5   technician/engineer   61614\n",
      "9      10      F  39.5     academic/educator   95370\n"
     ]
    }
   ],
   "source": [
    "mod_age = {\n",
    "    1 : 6+(18-6)/2,\n",
    "    18: 18+(24-18)/2,\n",
    "    25: 25+(34-25)/2,\n",
    "    35: 35+(44-35)/2,\n",
    "    45: 45+(49-45)/2,\n",
    "    50: 50+(55-50)/2,\n",
    "    56: 56+(80-56)/2\n",
    "}\n",
    "\n",
    "occu = {\n",
    "    0:\"other\",\n",
    "    1:\"academic/educator\",\n",
    "    2:\"artist\",\n",
    "    3:\"clerical/admin\",\n",
    "    4:\"college/grad student\",\n",
    "    5:\"customer service\",\n",
    "    6:\"doctor/health care\",\n",
    "    7:\"executive/managerial\",\n",
    "    8:\"farmer\",\n",
    "    9:\"homemaker\",\n",
    "    10:\"K-12 student\",\n",
    "    11:\"lawyer\",\n",
    "    12:\"programmer\",\n",
    "    13:\"retired\",\n",
    "    14:\"sales/marketing\",\n",
    "    15:\"scientist\",\n",
    "    16:\"self-employed\",\n",
    "    17:\"technician/engineer\",\n",
    "    18:\"tradesman/craftsman\",\n",
    "    19:\"unemployed\",\n",
    "    20:\"writer\"\n",
    "}\n",
    "\n",
    "users[\"age\"].replace(mod_age, inplace=True)\n",
    "users[\"occupation\"].replace(occu, inplace=True)\n",
    "\n",
    "print(users.any().isnull())\n",
    "print(users.head(10))"
   ]
  },
  {
   "cell_type": "markdown",
   "metadata": {},
   "source": [
    "Some users have two zipcodes, we take only the first one"
   ]
  },
  {
   "cell_type": "code",
   "execution_count": 5,
   "metadata": {},
   "outputs": [
    {
     "name": "stdout",
     "output_type": "stream",
     "text": [
      "<class 'pandas.core.frame.DataFrame'>\n",
      "RangeIndex: 6040 entries, 0 to 6039\n",
      "Data columns (total 5 columns):\n",
      "userID        6040 non-null int64\n",
      "gender        6040 non-null object\n",
      "age           6040 non-null float64\n",
      "occupation    6040 non-null object\n",
      "zipCode       6040 non-null int64\n",
      "dtypes: float64(1), int64(2), object(2)\n",
      "memory usage: 236.0+ KB\n",
      "modified 66 elements\n"
     ]
    }
   ],
   "source": [
    "modified = []\n",
    "\n",
    "def clean_zipCode(value):\n",
    "    t = value.split(\"-\")\n",
    "    if(len(t) > 1):\n",
    "        global modified\n",
    "        modified.append(t)\n",
    "    return int(t[0])\n",
    "\n",
    "\n",
    "users[\"zipCode\"] = users[\"zipCode\"].apply(clean_zipCode)\n",
    "\n",
    "users.info()\n",
    "print(\"modified {} elements\".format(len(modified)))"
   ]
  },
  {
   "cell_type": "code",
   "execution_count": 6,
   "metadata": {},
   "outputs": [
    {
     "name": "stdout",
     "output_type": "stream",
     "text": [
      "<class 'pandas.core.frame.DataFrame'>\n",
      "RangeIndex: 81831 entries, 0 to 81830\n",
      "Data columns (total 20 columns):\n",
      "RecordNumber           81831 non-null int64\n",
      "Zipcode                81831 non-null int64\n",
      "ZipCodeType            81831 non-null object\n",
      "City                   81831 non-null object\n",
      "State                  81831 non-null object\n",
      "LocationType           81831 non-null object\n",
      "Lat                    81178 non-null float64\n",
      "Long                   81178 non-null float64\n",
      "Xaxis                  81831 non-null float64\n",
      "Yaxis                  81831 non-null float64\n",
      "Zaxis                  81831 non-null float64\n",
      "WorldRegion            334 non-null object\n",
      "Country                81831 non-null object\n",
      "LocationText           81180 non-null object\n",
      "Location               81830 non-null object\n",
      "Decommisioned          81831 non-null bool\n",
      "TaxReturnsFiled        58447 non-null float64\n",
      "EstimatedPopulation    58447 non-null float64\n",
      "TotalWages             58354 non-null float64\n",
      "Notes                  1844 non-null object\n",
      "dtypes: bool(1), float64(8), int64(2), object(9)\n",
      "memory usage: 11.9+ MB\n",
      "None\n"
     ]
    },
    {
     "name": "stderr",
     "output_type": "stream",
     "text": [
      "/home/nicola/anaconda3/lib/python3.6/site-packages/IPython/core/interactiveshell.py:2698: DtypeWarning: Columns (11) have mixed types. Specify dtype option on import or set low_memory=False.\n",
      "  interactivity=interactivity, compiler=compiler, result=result)\n"
     ]
    }
   ],
   "source": [
    "zipp = pd.read_csv(\"zip.csv\")\n",
    "print(zipp.info())"
   ]
  },
  {
   "cell_type": "code",
   "execution_count": 7,
   "metadata": {
    "collapsed": true
   },
   "outputs": [],
   "source": [
    "zipp = zipp[[\"Zipcode\", \"City\", \"State\", \"Lat\", \"Long\", \"Country\"]]\n",
    "zipp.columns = [\"zipCode\", \"city\", \"state\", \"lat\", \"long\", \"country\"]"
   ]
  },
  {
   "cell_type": "code",
   "execution_count": 8,
   "metadata": {},
   "outputs": [
    {
     "name": "stdout",
     "output_type": "stream",
     "text": [
      "(81831, 6)\n",
      "   zipCode                 city\n",
      "0      704          PARC PARQUE\n",
      "1      704  PASEO COSTA DEL SUR\n",
      "2      704        SECT LANAUSSE\n",
      "3      704      URB EUGENE RICE\n",
      "4      704         URB GONZALEZ\n",
      "5      704       URB LA FABRICA\n",
      "6      704    URB MONTE SORIA 2\n",
      "7      704     VILLAS DEL COQUI\n",
      "8      705             AIBONITO\n",
      "9      705         BDA SAN LUIS\n"
     ]
    }
   ],
   "source": [
    "print(zipp.shape)\n",
    "print(zipp[['zipCode', 'city']].head(10))"
   ]
  },
  {
   "cell_type": "code",
   "execution_count": 9,
   "metadata": {},
   "outputs": [
    {
     "name": "stdout",
     "output_type": "stream",
     "text": [
      "926    130\n",
      "725     82\n",
      "662     75\n",
      "969     73\n",
      "612     68\n",
      "Name: zipCode, dtype: int64\n",
      "      zipCode                    city state   lat   long country\n",
      "2257      926                SAN JUAN    PR  18.4 -66.06      US\n",
      "2258      926                   CUPEY    PR  18.4 -66.06      US\n",
      "2259      926             RIO PIEDRAS    PR  18.4 -66.06      US\n",
      "2260      926  ALTS DE BORINQUEN GDNS    PR  18.4 -66.06      US\n",
      "2261      926        ALTS DEL REMANSO    PR  18.4 -66.06      US\n"
     ]
    }
   ],
   "source": [
    "print(zipp[\"zipCode\"].value_counts().head(5))\n",
    "\n",
    "print(zipp[ zipp['zipCode'] == 926 ].head(5))"
   ]
  },
  {
   "cell_type": "code",
   "execution_count": 10,
   "metadata": {},
   "outputs": [
    {
     "name": "stdout",
     "output_type": "stream",
     "text": [
      "(42522, 6)\n"
     ]
    }
   ],
   "source": [
    "zipp = zipp.drop_duplicates(subset=\"zipCode\", keep=\"first\")\n",
    "print(zipp.shape)"
   ]
  },
  {
   "cell_type": "code",
   "execution_count": 11,
   "metadata": {},
   "outputs": [
    {
     "name": "stdout",
     "output_type": "stream",
     "text": [
      "   userID gender   age    occupation       city state   lat   long country\n",
      "0       1      F  12.0  K-12 student  ROYAL OAK    MI  42.5 -83.15      US\n",
      "1     583      F  29.5         other  ROYAL OAK    MI  42.5 -83.15      US\n",
      "\n",
      "lost 68 users in the join\n"
     ]
    }
   ],
   "source": [
    "full = pd.merge(users, zipp, how=\"inner\", on=\"zipCode\")\n",
    "\n",
    "# df.drop('column_name', axis=1, inplace=True)\n",
    "full.drop('zipCode', axis=1, inplace=True)\n",
    "\n",
    "print(full.head(2))\n",
    "\n",
    "print(\"\\nlost {} users in the join\".format( users.shape[0]-full.shape[0] ))"
   ]
  },
  {
   "cell_type": "code",
   "execution_count": 12,
   "metadata": {},
   "outputs": [
    {
     "name": "stdout",
     "output_type": "stream",
     "text": [
      "userID        0\n",
      "gender        0\n",
      "age           0\n",
      "occupation    0\n",
      "city          0\n",
      "state         0\n",
      "lat           7\n",
      "long          7\n",
      "country       0\n",
      "dtype: int64\n"
     ]
    }
   ],
   "source": [
    "print(full.isnull().sum())"
   ]
  },
  {
   "cell_type": "code",
   "execution_count": 13,
   "metadata": {},
   "outputs": [
    {
     "data": {
      "text/html": [
       "<div>\n",
       "<style>\n",
       "    .dataframe thead tr:only-child th {\n",
       "        text-align: right;\n",
       "    }\n",
       "\n",
       "    .dataframe thead th {\n",
       "        text-align: left;\n",
       "    }\n",
       "\n",
       "    .dataframe tbody tr th {\n",
       "        vertical-align: top;\n",
       "    }\n",
       "</style>\n",
       "<table border=\"1\" class=\"dataframe\">\n",
       "  <thead>\n",
       "    <tr style=\"text-align: right;\">\n",
       "      <th></th>\n",
       "      <th>userID</th>\n",
       "      <th>gender</th>\n",
       "      <th>age</th>\n",
       "      <th>occupation</th>\n",
       "      <th>city</th>\n",
       "      <th>state</th>\n",
       "      <th>lat</th>\n",
       "      <th>long</th>\n",
       "      <th>country</th>\n",
       "    </tr>\n",
       "  </thead>\n",
       "  <tbody>\n",
       "    <tr>\n",
       "      <th>0</th>\n",
       "      <td>1</td>\n",
       "      <td>F</td>\n",
       "      <td>12.0</td>\n",
       "      <td>K-12 student</td>\n",
       "      <td>ROYAL OAK</td>\n",
       "      <td>MI</td>\n",
       "      <td>42.50</td>\n",
       "      <td>-83.15</td>\n",
       "      <td>US</td>\n",
       "    </tr>\n",
       "    <tr>\n",
       "      <th>6</th>\n",
       "      <td>2</td>\n",
       "      <td>M</td>\n",
       "      <td>68.0</td>\n",
       "      <td>self-employed</td>\n",
       "      <td>MARRERO</td>\n",
       "      <td>LA</td>\n",
       "      <td>29.88</td>\n",
       "      <td>-90.11</td>\n",
       "      <td>US</td>\n",
       "    </tr>\n",
       "    <tr>\n",
       "      <th>7</th>\n",
       "      <td>3</td>\n",
       "      <td>M</td>\n",
       "      <td>29.5</td>\n",
       "      <td>scientist</td>\n",
       "      <td>SAINT PAUL</td>\n",
       "      <td>MN</td>\n",
       "      <td>44.94</td>\n",
       "      <td>-93.10</td>\n",
       "      <td>US</td>\n",
       "    </tr>\n",
       "    <tr>\n",
       "      <th>16</th>\n",
       "      <td>4</td>\n",
       "      <td>M</td>\n",
       "      <td>47.0</td>\n",
       "      <td>executive/managerial</td>\n",
       "      <td>NEWTONVILLE</td>\n",
       "      <td>MA</td>\n",
       "      <td>42.35</td>\n",
       "      <td>-71.20</td>\n",
       "      <td>US</td>\n",
       "    </tr>\n",
       "    <tr>\n",
       "      <th>19</th>\n",
       "      <td>5</td>\n",
       "      <td>M</td>\n",
       "      <td>29.5</td>\n",
       "      <td>writer</td>\n",
       "      <td>MINNEAPOLIS</td>\n",
       "      <td>MN</td>\n",
       "      <td>44.96</td>\n",
       "      <td>-93.26</td>\n",
       "      <td>US</td>\n",
       "    </tr>\n",
       "    <tr>\n",
       "      <th>8</th>\n",
       "      <td>6</td>\n",
       "      <td>F</td>\n",
       "      <td>52.5</td>\n",
       "      <td>homemaker</td>\n",
       "      <td>SAINT PAUL</td>\n",
       "      <td>MN</td>\n",
       "      <td>44.94</td>\n",
       "      <td>-93.10</td>\n",
       "      <td>US</td>\n",
       "    </tr>\n",
       "    <tr>\n",
       "      <th>35</th>\n",
       "      <td>7</td>\n",
       "      <td>M</td>\n",
       "      <td>39.5</td>\n",
       "      <td>academic/educator</td>\n",
       "      <td>DANBURY</td>\n",
       "      <td>CT</td>\n",
       "      <td>41.40</td>\n",
       "      <td>-73.47</td>\n",
       "      <td>US</td>\n",
       "    </tr>\n",
       "    <tr>\n",
       "      <th>38</th>\n",
       "      <td>8</td>\n",
       "      <td>M</td>\n",
       "      <td>29.5</td>\n",
       "      <td>programmer</td>\n",
       "      <td>SPRINGFIELD GARDENS</td>\n",
       "      <td>NY</td>\n",
       "      <td>40.66</td>\n",
       "      <td>-73.75</td>\n",
       "      <td>US</td>\n",
       "    </tr>\n",
       "    <tr>\n",
       "      <th>39</th>\n",
       "      <td>9</td>\n",
       "      <td>M</td>\n",
       "      <td>29.5</td>\n",
       "      <td>technician/engineer</td>\n",
       "      <td>PEORIA</td>\n",
       "      <td>IL</td>\n",
       "      <td>40.74</td>\n",
       "      <td>-89.60</td>\n",
       "      <td>US</td>\n",
       "    </tr>\n",
       "    <tr>\n",
       "      <th>41</th>\n",
       "      <td>10</td>\n",
       "      <td>F</td>\n",
       "      <td>39.5</td>\n",
       "      <td>academic/educator</td>\n",
       "      <td>SONORA</td>\n",
       "      <td>CA</td>\n",
       "      <td>37.98</td>\n",
       "      <td>-120.39</td>\n",
       "      <td>US</td>\n",
       "    </tr>\n",
       "  </tbody>\n",
       "</table>\n",
       "</div>"
      ],
      "text/plain": [
       "    userID gender   age            occupation                 city state  \\\n",
       "0        1      F  12.0          K-12 student            ROYAL OAK    MI   \n",
       "6        2      M  68.0         self-employed              MARRERO    LA   \n",
       "7        3      M  29.5             scientist           SAINT PAUL    MN   \n",
       "16       4      M  47.0  executive/managerial          NEWTONVILLE    MA   \n",
       "19       5      M  29.5                writer          MINNEAPOLIS    MN   \n",
       "8        6      F  52.5             homemaker           SAINT PAUL    MN   \n",
       "35       7      M  39.5     academic/educator              DANBURY    CT   \n",
       "38       8      M  29.5            programmer  SPRINGFIELD GARDENS    NY   \n",
       "39       9      M  29.5   technician/engineer               PEORIA    IL   \n",
       "41      10      F  39.5     academic/educator               SONORA    CA   \n",
       "\n",
       "      lat    long country  \n",
       "0   42.50  -83.15      US  \n",
       "6   29.88  -90.11      US  \n",
       "7   44.94  -93.10      US  \n",
       "16  42.35  -71.20      US  \n",
       "19  44.96  -93.26      US  \n",
       "8   44.94  -93.10      US  \n",
       "35  41.40  -73.47      US  \n",
       "38  40.66  -73.75      US  \n",
       "39  40.74  -89.60      US  \n",
       "41  37.98 -120.39      US  "
      ]
     },
     "execution_count": 13,
     "metadata": {},
     "output_type": "execute_result"
    }
   ],
   "source": [
    "full.sort_values(\"userID\", ascending=True, inplace=True)\n",
    "full.head(10)"
   ]
  },
  {
   "cell_type": "code",
   "execution_count": 14,
   "metadata": {
    "collapsed": true
   },
   "outputs": [],
   "source": [
    "filename=\"users_zip.csv\"\n",
    "\n",
    "full.to_csv(path_or_buf=filename, sep=\",\", header=True, index=False)"
   ]
  }
 ],
 "metadata": {
  "kernelspec": {
   "display_name": "Python 3",
   "language": "python",
   "name": "python3"
  },
  "language_info": {
   "codemirror_mode": {
    "name": "ipython",
    "version": 3
   },
   "file_extension": ".py",
   "mimetype": "text/x-python",
   "name": "python",
   "nbconvert_exporter": "python",
   "pygments_lexer": "ipython3",
   "version": "3.6.3"
  }
 },
 "nbformat": 4,
 "nbformat_minor": 2
}
